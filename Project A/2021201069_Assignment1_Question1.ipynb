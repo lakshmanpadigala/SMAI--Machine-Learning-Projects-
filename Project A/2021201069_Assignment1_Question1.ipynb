{
  "cells": [
    {
      "cell_type": "markdown",
      "id": "7b7992a1",
      "metadata": {
        "id": "7b7992a1"
      },
      "source": [
        "# Image Recommendation System via Collaborative Filtering"
      ]
    },
    {
      "cell_type": "markdown",
      "id": "bdbd69cd",
      "metadata": {
        "id": "bdbd69cd"
      },
      "source": [
        "# ***Please read the instructions very carefully***"
      ]
    },
    {
      "cell_type": "markdown",
      "id": "17602772",
      "metadata": {
        "id": "17602772"
      },
      "source": [
        "1.   Assignment must be implemented in Python 3 only.\n",
        "2.   You are allowed to use libraries for data preprocessing (numpy, pandas, nltk etc) and for evaluation metrics, data visualization (matplotlib etc.).\n",
        "3.   You will be evaluated not just on the overall performance of the model and also on the experimentation with hyper parameters, data prepossessing techniques etc.\n",
        "4.   ⚠️ The Assignment will be evaluated automatically. Please adhere to taking proper inputs from `config.csv` file. You can change your `config.csv` file to experiment with your code. But at the end, make sure that your outputs are corresponding to input values in `config.csv`\n",
        "5.   Strict plagiarism checking will be done. An F will be awarded for plagiarism."
      ]
    },
    {
      "cell_type": "markdown",
      "id": "3c9abf04",
      "metadata": {
        "id": "3c9abf04"
      },
      "source": [
        "## About the Dataset\n",
        "Behance is a community art website where users showcase and discover creative work. Each user is able to “appreciate” (equivalent to a “like” on Instagram or a “react” on Facebook) an image, indicating that they like the image. It is in the website’s best interests to show users pictures that they would like, to keep them engaged for longer. For this question, given a set of pictures that a user has already appreciated, you have to show them a new picture that they would like based on what similar users appreciated.\n",
        "\n",
        "\n",
        "<br><br>\n",
        "**The dataset has information of 1 million appreciates of 63,497 users on 178,788 items. The file Behance appreciate 1M has a triplet in each line in the form of (user id, item id, unix timestamp).**"
      ]
    },
    {
      "cell_type": "markdown",
      "id": "11f6eaf3",
      "metadata": {
        "id": "11f6eaf3"
      },
      "source": [
        "**Task: Take the inputs from the config.csv file and output the recommendations for a particular person**\n",
        "- Collaborative Filtering is a way to predict items to the user based on the the\n",
        "user’s history and the history of similar users. The similarity between users can be quantified by the number of images that both the users appreciated.\n",
        "- The images appreciated by a similar user would be the most suitable images to show a user. Since we can find the similarity between any two users, we would be able to find the “nearest” neighbours of any user, allowing us to use a KNN-based algorithm to recommend new images to a user.\n",
        "- Since people do not like seeing pictures that they have seen already. Make sure that you do not recommend pictures that a user has appreciated already.\n",
        "- Output the final response will be saved in the file named ```config['output_file']```.\n"
      ]
    },
    {
      "cell_type": "markdown",
      "id": "1c9a5e4f",
      "metadata": {
        "id": "1c9a5e4f"
      },
      "source": [
        "**Output file format:**\n",
        "Populate the output file with images that the user has not seen of the k most\n",
        "similar users, in descending order of their similarity. Each line in the output\n",
        "file should be a duplet in the form of (item id, user id), where the user id is the\n",
        "id of the kth similar user. The order of the images corresponding to the same\n",
        "similar user would not matter. The output file would look something like this:\n",
        "```\n",
        "item_id_1_of_1st_similar_user 1st_most_similar_user_id\n",
        "item_id_2_of_1st_similar_user 1st_most_similar_user_id\n",
        "item_id_3_of_1st_similar_user 1st_most_similar_user_id\n",
        "...\n",
        "item_id_1_of_2nd_similar_user 2nd_most_similar_user_id\n",
        "item_id_2_of_2nd_similar_user 2nd_most_similar_user_id\n",
        "item_id_3_of_2nd_similar_user 2nd_most_similar_user_id\n",
        "...\n",
        "item_id_1_of_kth_similar_user kth_most_similar_user_id\n",
        "item_id_2_of_kth_similar_user kth_most_similar_user_id\n",
        "item_id_3_of_kth_similar_user kth_most_similar_user_id\n",
        "```"
      ]
    },
    {
      "cell_type": "markdown",
      "id": "c6d0c592",
      "metadata": {
        "id": "c6d0c592"
      },
      "source": [
        "The dataset was extracted using Behance’s API as a part of the paper\n",
        "“Vista: A visually, socially, and temporally-aware model for artistic\n",
        "recommendation, RecSys, 2016”. Check out this [Google Drive folder](https://drive.google.com/drive/folders/0B9Ck8jw-TZUEc3NlMjVXdDlPU1k?resourcekey=0-6_8ykn0o4fLc5fuTEm91xA) for\n",
        "more information about the dataset.\n",
        "\n",
        "\n",
        "Have fun! The users are waiting to see new pictures!"
      ]
    },
    {
      "cell_type": "markdown",
      "id": "87b8072a",
      "metadata": {
        "id": "87b8072a"
      },
      "source": [
        "### Import necessary libraries"
      ]
    },
    {
      "cell_type": "code",
      "execution_count": null,
      "id": "f153853d",
      "metadata": {
        "id": "f153853d"
      },
      "outputs": [],
      "source": [
        "import numpy as np\n",
        "import pandas as pd\n",
        "from scipy.sparse import csr_matrix\n",
        "from sklearn.decomposition import TruncatedSVD\n",
        "from numpy import dot\n",
        "from numpy.linalg import norm"
      ]
    },
    {
      "cell_type": "code",
      "execution_count": null,
      "id": "41ac6337",
      "metadata": {
        "id": "41ac6337"
      },
      "outputs": [],
      "source": [
        "# Config Generation Sample Code.\n",
        "# ⚠️ Only for experimentation on your side.\n",
        "# ⚠️ Should be commented during submission.\n",
        "\n",
        "# df = pd.DataFrame(data=[{'id':276633,\n",
        "#                   'k':5,\n",
        "#                   'dataset_file':'./Behance_appreciate_1M',\n",
        "#                   'output_file':'./output.txt'}])\n",
        "# df.to_csv('config.csv')"
      ]
    },
    {
      "cell_type": "code",
      "execution_count": null,
      "id": "7af3e999",
      "metadata": {
        "id": "7af3e999"
      },
      "outputs": [],
      "source": [
        "config = pd.read_csv('config.csv').iloc[0]\n",
        "config\n",
        "user = config['id']\n",
        "k_value = config['k']"
      ]
    },
    {
      "cell_type": "markdown",
      "id": "10935090",
      "metadata": {
        "id": "10935090"
      },
      "source": [
        "### Read the Data"
      ]
    },
    {
      "cell_type": "code",
      "execution_count": null,
      "id": "5bbba85a",
      "metadata": {
        "id": "5bbba85a"
      },
      "outputs": [],
      "source": [
        "#with open(\"/content/Behance_subsampled.txt\",'r') as inFile:\n",
        "with open(config['dataset_file'], 'r') as inFile:\n",
        "    appreciate_data = inFile.readlines()\n",
        "inFile.close()"
      ]
    },
    {
      "cell_type": "code",
      "source": [
        "print(type(appreciate_data))\n",
        "print(len(appreciate_data))\n",
        "print(appreciate_data[0])"
      ],
      "metadata": {
        "colab": {
          "base_uri": "https://localhost:8080/"
        },
        "id": "TfzRR7gBQX-C",
        "outputId": "689c0af8-696d-4d01-cca5-a1530282412a"
      },
      "id": "TfzRR7gBQX-C",
      "execution_count": null,
      "outputs": [
        {
          "output_type": "stream",
          "name": "stdout",
          "text": [
            "<class 'list'>\n",
            "1000000\n",
            "276633 01588231 1307583271\n",
            "\n"
          ]
        }
      ]
    },
    {
      "cell_type": "code",
      "source": [
        "print(appreciate_data[0:4])"
      ],
      "metadata": {
        "colab": {
          "base_uri": "https://localhost:8080/"
        },
        "id": "ayCLW4bcq8ab",
        "outputId": "1e2051f6-eab7-4c7e-8785-273f01809410"
      },
      "id": "ayCLW4bcq8ab",
      "execution_count": null,
      "outputs": [
        {
          "output_type": "stream",
          "name": "stdout",
          "text": [
            "['276633 01588231 1307583271\\n', '1238354 01529213 1307583273\\n', '165550 00485000 1307583337\\n', '2173258 00776972 1307583340\\n']\n"
          ]
        }
      ]
    },
    {
      "cell_type": "code",
      "execution_count": null,
      "id": "80a539f1",
      "metadata": {
        "id": "80a539f1",
        "colab": {
          "base_uri": "https://localhost:8080/"
        },
        "outputId": "fbfcb026-473e-4738-b584-e8c939d5c1f1"
      },
      "outputs": [
        {
          "output_type": "stream",
          "name": "stdout",
          "text": [
            "63497\n"
          ]
        }
      ],
      "source": [
        "user_likes = dict()\n",
        "for line in appreciate_data:\n",
        "    line = line.strip()\n",
        "    \n",
        "    user_id = int(line.split()[0])\n",
        "    item_id = int(line.split()[1])\n",
        "\n",
        "    if user_id not in user_likes:\n",
        "        user_likes[user_id] = list()\n",
        "    \n",
        "    user_likes[user_id].append(item_id)\n",
        "#print(user_likes)\n",
        "print(len(user_likes))"
      ]
    },
    {
      "cell_type": "code",
      "source": [
        "#creating row,column,data for sparse matrix\n",
        "row = []\n",
        "column = []\n",
        "data = []\n",
        "for like in appreciate_data:\n",
        "  like = like.strip()\n",
        "  row.append(int(like.split()[0]))\n",
        "  column.append(int(like.split()[1]))\n",
        "  data.append(1)"
      ],
      "metadata": {
        "id": "adb7j1yedLBR"
      },
      "id": "adb7j1yedLBR",
      "execution_count": null,
      "outputs": []
    },
    {
      "cell_type": "code",
      "source": [
        "#user and item mapping with index\n",
        "#(user id, item id, unix timestamp)\n",
        "user_tags = {}\n",
        "index = 0\n",
        "for user in row:\n",
        "  if user not in user_tags.keys():\n",
        "    user_tags[user] = index\n",
        "    index += 1\n",
        "print(len(user_tags))\n",
        "\n",
        "item_tags = {}\n",
        "index = 0\n",
        "for item in column:\n",
        "  if item not in item_tags.keys():\n",
        "    item_tags[item] = index\n",
        "    index += 1\n",
        "print(len(item_tags))"
      ],
      "metadata": {
        "colab": {
          "base_uri": "https://localhost:8080/"
        },
        "id": "lfWkMlJicqUs",
        "outputId": "d6db44a2-6c9d-4dff-c713-c4c7320925fc"
      },
      "id": "lfWkMlJicqUs",
      "execution_count": null,
      "outputs": [
        {
          "output_type": "stream",
          "name": "stdout",
          "text": [
            "63497\n",
            "178788\n"
          ]
        }
      ]
    },
    {
      "cell_type": "code",
      "source": [
        "users = []\n",
        "for user in row:\n",
        "  users.append(user_tags[user])\n",
        "del row\n",
        "items = []\n",
        "for item in column:\n",
        "  items.append(item_tags[item])\n",
        "del column"
      ],
      "metadata": {
        "id": "3yGsr4--f2E5"
      },
      "id": "3yGsr4--f2E5",
      "execution_count": null,
      "outputs": []
    },
    {
      "cell_type": "code",
      "source": [
        "#print(data)\n",
        "print(len(items))\n",
        "print(len(users))\n",
        "print(len(data))\n",
        "print(len(user_tags))\n",
        "print(len(item_tags))"
      ],
      "metadata": {
        "colab": {
          "base_uri": "https://localhost:8080/"
        },
        "id": "h-gBKiCoh_Df",
        "outputId": "b3b2d4d2-e1ab-4241-8507-a7264c18d26d"
      },
      "id": "h-gBKiCoh_Df",
      "execution_count": null,
      "outputs": [
        {
          "output_type": "stream",
          "name": "stdout",
          "text": [
            "1000000\n",
            "1000000\n",
            "1000000\n",
            "63497\n",
            "178788\n"
          ]
        }
      ]
    },
    {
      "cell_type": "code",
      "source": [
        "users = np.array(users, dtype = np.float32)\n",
        "items = np.array(items,dtype = np.float32)\n",
        "data = np.array(data,dtype = np.float32)\n",
        "matrix = csr_matrix((data, (users, items)), shape=(len(user_tags), len(item_tags)))"
      ],
      "metadata": {
        "id": "urCsmrnTkVFb"
      },
      "id": "urCsmrnTkVFb",
      "execution_count": null,
      "outputs": []
    },
    {
      "cell_type": "code",
      "source": [
        "#print(matrix.toarray())\n",
        "print(matrix.shape)"
      ],
      "metadata": {
        "colab": {
          "base_uri": "https://localhost:8080/"
        },
        "id": "y3kAAByticJX",
        "outputId": "ac9edbc1-a0aa-4dd9-aa1c-cd4c5ad3ccee"
      },
      "id": "y3kAAByticJX",
      "execution_count": null,
      "outputs": [
        {
          "output_type": "stream",
          "name": "stdout",
          "text": [
            "(63497, 178788)\n"
          ]
        }
      ]
    },
    {
      "cell_type": "code",
      "source": [
        "svd = TruncatedSVD(n_components=4000)\n",
        "svd_matrix = svd.fit_transform(matrix)\n",
        "print(svd.explained_variance_ratio_.sum())\n"
      ],
      "metadata": {
        "id": "arseCChzinjU",
        "colab": {
          "base_uri": "https://localhost:8080/"
        },
        "outputId": "e59bca8e-77f0-4efe-90d8-e3559c22d044"
      },
      "id": "arseCChzinjU",
      "execution_count": null,
      "outputs": [
        {
          "output_type": "stream",
          "name": "stdout",
          "text": [
            "0.7264493\n"
          ]
        }
      ]
    },
    {
      "cell_type": "markdown",
      "source": [
        "####Unable to run below cell due to hardware constraints to select better n_components"
      ],
      "metadata": {
        "id": "KuCAXHyE7rNL"
      },
      "id": "KuCAXHyE7rNL"
    },
    {
      "cell_type": "code",
      "source": [
        "def select_n_components(matrix,target_variance):\n",
        "  \"\"\"For selecting best number of n_components for capturing the variability of data well enough\"\"\"\n",
        "  n_components_selected = 0\n",
        "  while(True):\n",
        "    n_components_selected += 200\n",
        "    svd = TruncatedSVD(n_components = n_components_selected,random_state=23)\n",
        "    svd.fit(matrix)\n",
        "    if svd.explained_variance_ratio_.sum() >= target_variance :\n",
        "      break\n",
        "  return svd,n_components_selected\n",
        "\n",
        "return_components = select_n_components(matrix,0.85)\n",
        "print(\"Best Number for n_components:\",return_components[1])\n",
        "svd_matrix = return_components[0].fit_transform(matrix)"
      ],
      "metadata": {
        "id": "wgf4uKWs7zSC"
      },
      "id": "wgf4uKWs7zSC",
      "execution_count": null,
      "outputs": []
    },
    {
      "cell_type": "markdown",
      "source": [
        "we can't compute for n_components greater than 4000 because of hardware limit.\n",
        "If we increase n_components such that explained_variance_ratio.sum() gets to 0.85  to 0.90 we can see better results."
      ],
      "metadata": {
        "id": "i2HxxP_O0Oy7"
      },
      "id": "i2HxxP_O0Oy7"
    },
    {
      "cell_type": "code",
      "source": [
        "print(svd_matrix.shape)"
      ],
      "metadata": {
        "id": "r88kdIVKbdKR"
      },
      "id": "r88kdIVKbdKR",
      "execution_count": null,
      "outputs": []
    },
    {
      "cell_type": "code",
      "source": [
        "# tsvd = TruncatedSVD(n_components=3000)\n",
        "# X_tsvd = tsvd.fit(matrix)\n",
        "# tsvd_var_ratios = tsvd.explained_variance_ratio_\n",
        "# print(tsvd_var_ratios.sum())"
      ],
      "metadata": {
        "id": "ill8Jk-j-HaY"
      },
      "id": "ill8Jk-j-HaY",
      "execution_count": null,
      "outputs": []
    },
    {
      "cell_type": "code",
      "source": [
        "# tsvd = TruncatedSVD(n_components=matrix.shape[1]-1)\n",
        "# X_tsvd = tsvd.fit(matrix)\n",
        "# tsvd_var_ratios = tsvd.explained_variance_ratio_\n",
        "# select_n_components(tsvd_var_ratios, 0.95)"
      ],
      "metadata": {
        "id": "qzevUStx40xf"
      },
      "id": "qzevUStx40xf",
      "execution_count": null,
      "outputs": []
    },
    {
      "cell_type": "code",
      "source": [
        "#print(svd_matrix)\n",
        "print(type(svd_matrix))\n",
        "print(svd_matrix.shape)"
      ],
      "metadata": {
        "colab": {
          "base_uri": "https://localhost:8080/"
        },
        "id": "vJrO9GoIsbyb",
        "outputId": "18ee83e5-1988-40a2-bb2a-3cef95a7098c"
      },
      "id": "vJrO9GoIsbyb",
      "execution_count": null,
      "outputs": [
        {
          "output_type": "stream",
          "name": "stdout",
          "text": [
            "<class 'numpy.ndarray'>\n",
            "(63497, 4000)\n"
          ]
        }
      ]
    },
    {
      "cell_type": "code",
      "source": [
        "print(matrix.shape)\n",
        "print(type(matrix))"
      ],
      "metadata": {
        "id": "Ty1NHpoTsL6c",
        "colab": {
          "base_uri": "https://localhost:8080/"
        },
        "outputId": "8a655448-4cd3-4a47-eec7-ed18bea55870"
      },
      "id": "Ty1NHpoTsL6c",
      "execution_count": null,
      "outputs": [
        {
          "output_type": "stream",
          "name": "stdout",
          "text": [
            "(63497, 178788)\n",
            "<class 'scipy.sparse.csr.csr_matrix'>\n"
          ]
        }
      ]
    },
    {
      "cell_type": "markdown",
      "id": "9e199965",
      "metadata": {
        "id": "9e199965"
      },
      "source": [
        "### Use KNN after Collaborative Filtering to find nearest neighbors"
      ]
    },
    {
      "cell_type": "code",
      "source": [
        "def cosine_distance(node,test_node):\n",
        "  cos_sim = 1 - (dot(node,test_node)/(norm(test_node)*norm(node)))\n",
        "  return cos_sim"
      ],
      "metadata": {
        "id": "XxjbP7A0wcdE"
      },
      "id": "XxjbP7A0wcdE",
      "execution_count": null,
      "outputs": []
    },
    {
      "cell_type": "code",
      "source": [
        "def find_max(l):\n",
        "  max = -1\n",
        "  max_key = 0\n",
        "  for item in l.keys():\n",
        "    if l[item] > max:\n",
        "      max = l[item]\n",
        "      max_key = item\n",
        "  return max_key"
      ],
      "metadata": {
        "id": "SLySncNPxCoc"
      },
      "id": "SLySncNPxCoc",
      "execution_count": null,
      "outputs": []
    },
    {
      "cell_type": "markdown",
      "source": [
        "##KNN Built-from-scratch Model"
      ],
      "metadata": {
        "id": "UuDWIRlowEVt"
      },
      "id": "UuDWIRlowEVt"
    },
    {
      "cell_type": "code",
      "execution_count": null,
      "id": "2117df52",
      "metadata": {
        "id": "2117df52"
      },
      "outputs": [],
      "source": [
        "def knneighbors(user,k_value,svd_matrix):\n",
        "  k_neighbors = {}\n",
        "  user_tag = user_tags[user]\n",
        "  user_node = svd_matrix[user_tag]\n",
        "  for itr in range(len(svd_matrix)):\n",
        "    if itr == user_tag:\n",
        "      continue\n",
        "    else:\n",
        "      node = svd_matrix[itr]\n",
        "      distance = cosine_distance(user_node,node)\n",
        "      if len(k_neighbors) < k_value:\n",
        "        k_neighbors[itr] = distance\n",
        "      else:\n",
        "        max_dist = find_max(k_neighbors)\n",
        "        #an iterator for max_distance..!\n",
        "        if k_neighbors[max_dist] > distance :\n",
        "          k_neighbors.pop(max_dist)\n",
        "          k_neighbors[itr] = distance\n",
        "  k_neighbors = {key:value for key,value in sorted(k_neighbors.items(),key = lambda item: item[1])}\n",
        "  return list(k_neighbors.keys())\n"
      ]
    },
    {
      "cell_type": "code",
      "source": [
        "neighbor_tags = knneighbors(user,k_value,svd_matrix)\n",
        "neighbors = []\n",
        "for j in neighbor_tags:\n",
        "  for l in user_tags.keys():\n",
        "    if user_tags[l] == j:\n",
        "      neighbors.append(l)\n",
        "#print(neighbor_tags)\n",
        "print(\"Neighbors:\",neighbors)"
      ],
      "metadata": {
        "colab": {
          "base_uri": "https://localhost:8080/"
        },
        "id": "jBOZp3Pc7_fl",
        "outputId": "942f32f4-a53f-4e50-a5fb-a54c660a2e33"
      },
      "id": "jBOZp3Pc7_fl",
      "execution_count": null,
      "outputs": [
        {
          "output_type": "stream",
          "name": "stdout",
          "text": [
            "Neighbors: [1333087, 2059570, 3613632, 938435, 3629295]\n"
          ]
        }
      ]
    },
    {
      "cell_type": "code",
      "source": [
        "appreciate_data.clear()"
      ],
      "metadata": {
        "id": "7o_Ar0okDwn5"
      },
      "id": "7o_Ar0okDwn5",
      "execution_count": null,
      "outputs": []
    },
    {
      "cell_type": "code",
      "source": [
        "for item in neighbors:\n",
        "  print(user_likes[item])"
      ],
      "metadata": {
        "colab": {
          "base_uri": "https://localhost:8080/"
        },
        "id": "095rXrJHzgrV",
        "outputId": "b49aea52-d09e-473a-a1d5-c6d9a07b1846"
      },
      "id": "095rXrJHzgrV",
      "execution_count": null,
      "outputs": [
        {
          "output_type": "stream",
          "name": "stdout",
          "text": [
            "[1945173, 329834, 2037507, 1912005, 2062516]\n",
            "[329834]\n",
            "[329834]\n",
            "[329834]\n",
            "[329834]\n"
          ]
        }
      ]
    },
    {
      "cell_type": "markdown",
      "id": "892c395b",
      "metadata": {
        "id": "892c395b"
      },
      "source": [
        "### Output file to write all the lines to the file"
      ]
    },
    {
      "cell_type": "code",
      "execution_count": null,
      "id": "428708d5",
      "metadata": {
        "id": "428708d5"
      },
      "outputs": [],
      "source": [
        "outFile = open(\"output.txt\", 'w')\n",
        "liked_items = set(user_likes[user])\n",
        "for n_user in neighbors:\n",
        "  for item_id in user_likes[n_user]:\n",
        "    if item_id not in liked_items:\n",
        "      outFile.write(str(item_id) + ' ' + str(n_user) + '\\n')\n",
        "      liked_items.add(item_id)\n",
        "outFile.close()"
      ]
    }
  ],
  "metadata": {
    "kernelspec": {
      "display_name": "Python 3",
      "language": "python",
      "name": "python3"
    },
    "language_info": {
      "codemirror_mode": {
        "name": "ipython",
        "version": 3
      },
      "file_extension": ".py",
      "mimetype": "text/x-python",
      "name": "python",
      "nbconvert_exporter": "python",
      "pygments_lexer": "ipython3",
      "version": "3.8.10"
    },
    "colab": {
      "name": "2021201069_Assignment1_Question1.ipynb",
      "provenance": []
    }
  },
  "nbformat": 4,
  "nbformat_minor": 5
}