{
  "cells": [
    {
      "cell_type": "markdown",
      "id": "866ed254",
      "metadata": {
        "id": "866ed254"
      },
      "source": [
        "# Approximate Nearest Neighbors:\n",
        "\n",
        "# Image Recommendation System via Collaborative Filtering"
      ]
    },
    {
      "cell_type": "markdown",
      "id": "2e08937a",
      "metadata": {
        "id": "2e08937a"
      },
      "source": [
        "# ***Please read the instructions very carefully***\n",
        "This is a modified version of the previous question and requires you to use an artificial nearest neighbors library\n",
        "\n",
        "We suggest you to use one of the following:\n",
        "- [ScaNN](https://github.com/google-research/google-research/tree/master/scann)\n",
        "- [FAISS](https://github.com/facebookresearch/faiss)\n",
        "- [Annoy](https://github.com/spotify/annoy.git)"
      ]
    },
    {
      "cell_type": "markdown",
      "id": "489a4212",
      "metadata": {
        "id": "489a4212"
      },
      "source": [
        "1.   Assignment must be implemented in Python 3 only.\n",
        "2.   You are allowed to use libraries for data preprocessing (numpy, pandas, nltk etc) and for evaluation metrics, data visualization (matplotlib etc.).\n",
        "3.   You will be evaluated not just on the overall performance of the model and also on the experimentation with hyper parameters, data prepossessing techniques etc.\n",
        "4.   ⚠️ The Assignment will be evaluated automatically. Please adhere to taking proper inputs from `config.csv` file. You can change your `config.csv` file to experiment with your code. But at the end, make sure that your outputs are corresponding to input values in `config.csv`\n",
        "5.   Strict plagiarism checking will be done. An F will be awarded for plagiarism."
      ]
    },
    {
      "cell_type": "markdown",
      "id": "f494560c",
      "metadata": {
        "id": "f494560c"
      },
      "source": [
        "## About the Dataset\n",
        "Behance is a community art website where users showcase and discover creative work. Each user is able to “appreciate” (equivalent to a “like” on Instagram or a “react” on Facebook) an image, indicating that they like the image. It is in the website’s best interests to show users pictures that they would like, to keep them engaged for longer. For this question, given a set of pictures that a user has already appreciated, you have to show them a new picture that they would like based on what similar users appreciated.\n",
        "\n",
        "\n",
        "<br><br>\n",
        "**The dataset has information of 1 million appreciates of 63,497 users on 178,788 items. The file Behance appreciate 1M has a triplet in each line in the form of (user id, item id, unix timestamp).**"
      ]
    },
    {
      "cell_type": "markdown",
      "id": "d8dd3f15",
      "metadata": {
        "id": "d8dd3f15"
      },
      "source": [
        "**Task: Take the inputs from the config.csv file and output the recommendations for a particular person**\n",
        "- Collaborative Filtering is a way to predict items to the user based on the the\n",
        "user’s history and the history of similar users. The similarity between users can be quantified by the number of images that both the users appreciated.\n",
        "- The images appreciated by a similar user would be the most suitable images to show a user. Since we can find the similarity between any two users, we would be able to find the “nearest” neighbours of any user, allowing us to use a KNN-based algorithm to recommend new images to a user.\n",
        "- Since people do not like seeing pictures that they have seen already. Make sure that you do not recommend pictures that a user has appreciated already.\n",
        "- Output the final response will be saved in the file named ```config['output_file']```.\n"
      ]
    },
    {
      "cell_type": "markdown",
      "id": "68a52fe5",
      "metadata": {
        "id": "68a52fe5"
      },
      "source": [
        "**Output file format:**\n",
        "Populate the output file with images that the user has not seen of the k most\n",
        "similar users, in descending order of their similarity. Each line in the output\n",
        "file should be a duplet in the form of (item id, user id), where the user id is the\n",
        "id of the kth similar user. The order of the images corresponding to the same\n",
        "similar user would not matter. The output file would look something like this:\n",
        "```\n",
        "item_id_1_of_1st_similar_user 1st_most_similar_user_id\n",
        "item_id_2_of_1st_similar_user 1st_most_similar_user_id\n",
        "item_id_3_of_1st_similar_user 1st_most_similar_user_id\n",
        "...\n",
        "item_id_1_of_2nd_similar_user 2nd_most_similar_user_id\n",
        "item_id_2_of_2nd_similar_user 2nd_most_similar_user_id\n",
        "item_id_3_of_2nd_similar_user 2nd_most_similar_user_id\n",
        "...\n",
        "item_id_1_of_kth_similar_user kth_most_similar_user_id\n",
        "item_id_2_of_kth_similar_user kth_most_similar_user_id\n",
        "item_id_3_of_kth_similar_user kth_most_similar_user_id\n",
        "```"
      ]
    },
    {
      "cell_type": "markdown",
      "id": "26d46fd2",
      "metadata": {
        "id": "26d46fd2"
      },
      "source": [
        "You may use any other recommendation system that you wish to use. However,\n",
        "evaluation script will score your submission by measuring the similarity between\n",
        "users with the number of common images they appreciated.\n",
        "The dataset was extracted using Behance’s API as a part of the paper\n",
        "“Vista: A visually, socially, and temporally-aware model for artistic\n",
        "recommendation, RecSys, 2016”. Check out this [Google Drive folder](https://drive.google.com/drive/folders/0B9Ck8jw-TZUEc3NlMjVXdDlPU1k?resourcekey=0-6_8ykn0o4fLc5fuTEm91xA) for\n",
        "more information about the dataset.\n",
        "\n",
        "\n",
        "Have fun! The users are waiting to see new pictures!"
      ]
    },
    {
      "cell_type": "markdown",
      "id": "912088cf",
      "metadata": {
        "id": "912088cf"
      },
      "source": [
        "### Import necessary libraries"
      ]
    },
    {
      "cell_type": "code",
      "execution_count": 7,
      "id": "13e9cbe3",
      "metadata": {
        "id": "13e9cbe3"
      },
      "outputs": [],
      "source": [
        "import numpy as np\n",
        "import pandas as pd\n",
        "from scipy.sparse import csr_matrix\n",
        "from sklearn.decomposition import TruncatedSVD\n",
        "from numpy import dot\n",
        "from numpy.linalg import norm"
      ]
    },
    {
      "cell_type": "code",
      "execution_count": null,
      "id": "0c9c4cd1",
      "metadata": {
        "id": "0c9c4cd1"
      },
      "outputs": [],
      "source": [
        "# Config Generation Sample Code.\n",
        "# ⚠️ Only for experimentation on your side.\n",
        "# ⚠️ Should be commented during submission.\n",
        "\n",
        "# df = pd.DataFrame(data=[{'id':276633,\n",
        "#                   'k':5,\n",
        "#                   'dataset_file':'./Behance_appreciate_1M',\n",
        "#                   'output_file':'./output.txt'}])\n",
        "# df.to_csv('config.csv')"
      ]
    },
    {
      "cell_type": "code",
      "execution_count": 8,
      "id": "cb6bc1ff",
      "metadata": {
        "id": "cb6bc1ff"
      },
      "outputs": [],
      "source": [
        "config = pd.read_csv('config.csv').iloc[0]\n",
        "user = config['id']\n",
        "k_value = config['k']"
      ]
    },
    {
      "cell_type": "code",
      "execution_count": 9,
      "id": "ef721d6b",
      "metadata": {
        "colab": {
          "base_uri": "https://localhost:8080/"
        },
        "id": "ef721d6b",
        "outputId": "814c465a-3fce-44c5-d319-5597d4b67649"
      },
      "outputs": [
        {
          "output_type": "execute_result",
          "data": {
            "text/plain": [
              "Unnamed: 0                            0\n",
              "id                               276633\n",
              "k                                     5\n",
              "dataset_file    ./Behance_appreciate_1M\n",
              "output_file                ./output.txt\n",
              "Name: 0, dtype: object"
            ]
          },
          "metadata": {},
          "execution_count": 9
        }
      ],
      "source": [
        "config"
      ]
    },
    {
      "cell_type": "markdown",
      "id": "e8e50dee",
      "metadata": {
        "id": "e8e50dee"
      },
      "source": [
        "### Read the Data"
      ]
    },
    {
      "cell_type": "code",
      "execution_count": 10,
      "id": "cd74173b",
      "metadata": {
        "id": "cd74173b"
      },
      "outputs": [],
      "source": [
        "#with open(\"/content/Behance_subsampled.txt\",'r') as inFile:\n",
        "with open(config['dataset_file'], 'r') as inFile:\n",
        "    appreciate_data = inFile.readlines()"
      ]
    },
    {
      "cell_type": "code",
      "source": [
        "print(len(appreciate_data))"
      ],
      "metadata": {
        "colab": {
          "base_uri": "https://localhost:8080/"
        },
        "id": "pbgaux9pQvE7",
        "outputId": "49185157-0031-4518-a873-709c93663be7"
      },
      "id": "pbgaux9pQvE7",
      "execution_count": 11,
      "outputs": [
        {
          "output_type": "stream",
          "name": "stdout",
          "text": [
            "1000000\n"
          ]
        }
      ]
    },
    {
      "cell_type": "markdown",
      "id": "e09e9961",
      "metadata": {
        "id": "e09e9961"
      },
      "source": [
        "### Initialize a dictionary to store the item_ids that a user likes\n",
        "\n",
        "### Go through each line of the input file and construct the user_likes dictionary"
      ]
    },
    {
      "cell_type": "code",
      "execution_count": 13,
      "id": "5b55dc0b",
      "metadata": {
        "id": "5b55dc0b"
      },
      "outputs": [],
      "source": [
        "user_likes = dict()\n",
        "for line in appreciate_data:\n",
        "    line = line.strip()\n",
        "    \n",
        "    user_id = int(line.split()[0])\n",
        "    item_id = int(line.split()[1])\n",
        "\n",
        "    if user_id not in user_likes:\n",
        "        user_likes[user_id] = list()\n",
        "    \n",
        "    user_likes[user_id].append(item_id)"
      ]
    },
    {
      "cell_type": "code",
      "source": [
        "len(user_likes)"
      ],
      "metadata": {
        "colab": {
          "base_uri": "https://localhost:8080/"
        },
        "id": "dW8gyDMUQ6g2",
        "outputId": "01dea2fc-5769-4cf6-e294-ed53d541ce8e"
      },
      "id": "dW8gyDMUQ6g2",
      "execution_count": 14,
      "outputs": [
        {
          "output_type": "execute_result",
          "data": {
            "text/plain": [
              "63497"
            ]
          },
          "metadata": {},
          "execution_count": 14
        }
      ]
    },
    {
      "cell_type": "code",
      "source": [
        "#creating row,column,data for sparse matrix\n",
        "row = []\n",
        "column = []\n",
        "data = []\n",
        "for like in appreciate_data:\n",
        "  like = like.strip()\n",
        "  row.append(int(like.split()[0]))\n",
        "  column.append(int(like.split()[1]))\n",
        "  data.append(1)"
      ],
      "metadata": {
        "id": "p7x_tDeTLHV5"
      },
      "id": "p7x_tDeTLHV5",
      "execution_count": 15,
      "outputs": []
    },
    {
      "cell_type": "code",
      "source": [
        "#user and item mapping with index\n",
        "#(user id, item id, unix timestamp)\n",
        "user_tags = {}\n",
        "index = 0\n",
        "for user in row:\n",
        "  if user not in user_tags.keys():\n",
        "    user_tags[user] = index\n",
        "    index += 1\n",
        "print(len(user_tags))\n",
        "\n",
        "item_tags = {}\n",
        "index = 0\n",
        "for item in column:\n",
        "  if item not in item_tags.keys():\n",
        "    item_tags[item] = index\n",
        "    index += 1\n",
        "print(len(item_tags))"
      ],
      "metadata": {
        "colab": {
          "base_uri": "https://localhost:8080/"
        },
        "id": "ZtqC4iywLO14",
        "outputId": "c79cb1d3-7886-4007-b531-0e33446c17f2"
      },
      "id": "ZtqC4iywLO14",
      "execution_count": 16,
      "outputs": [
        {
          "output_type": "stream",
          "name": "stdout",
          "text": [
            "63497\n",
            "178788\n"
          ]
        }
      ]
    },
    {
      "cell_type": "code",
      "source": [
        "users = []\n",
        "for user in row:\n",
        "  users.append(user_tags[user])\n",
        "del row\n",
        "items = []\n",
        "for item in column:\n",
        "  items.append(item_tags[item])\n",
        "del column"
      ],
      "metadata": {
        "id": "9DalVvcMLR-v"
      },
      "id": "9DalVvcMLR-v",
      "execution_count": 17,
      "outputs": []
    },
    {
      "cell_type": "code",
      "source": [
        "#print(data)\n",
        "print(len(items))\n",
        "print(len(users))\n",
        "print(len(data))\n",
        "print(len(user_tags))\n",
        "print(len(item_tags))"
      ],
      "metadata": {
        "colab": {
          "base_uri": "https://localhost:8080/"
        },
        "id": "gnUBVeA5LYuH",
        "outputId": "2fe03ccf-aa67-4db4-8c60-5333d8f7d2c7"
      },
      "id": "gnUBVeA5LYuH",
      "execution_count": 18,
      "outputs": [
        {
          "output_type": "stream",
          "name": "stdout",
          "text": [
            "1000000\n",
            "1000000\n",
            "1000000\n",
            "63497\n",
            "178788\n"
          ]
        }
      ]
    },
    {
      "cell_type": "code",
      "source": [
        "users = np.array(users, dtype = np.float32)\n",
        "items = np.array(items,dtype = np.float32)\n",
        "data = np.array(data,dtype = np.float32)\n",
        "matrix = csr_matrix((data, (users, items)), shape=(len(user_tags), len(item_tags)))"
      ],
      "metadata": {
        "id": "ITUkLbWnLrt3"
      },
      "id": "ITUkLbWnLrt3",
      "execution_count": 19,
      "outputs": []
    },
    {
      "cell_type": "markdown",
      "source": [
        "##Unable to run below cell due to hardware constraints to select better n_components "
      ],
      "metadata": {
        "id": "y5yI77-Xsbag"
      },
      "id": "y5yI77-Xsbag"
    },
    {
      "cell_type": "markdown",
      "source": [
        "we can't compute for n_components greater than 4000 because of hardware limit.\n",
        "If we increase n_components such that explained_variance_ratio.sum() gets to 0.85  to 0.90 we can see better results."
      ],
      "metadata": {
        "id": "nyuPFCprtCld"
      },
      "id": "nyuPFCprtCld"
    },
    {
      "cell_type": "code",
      "source": [
        "def select_n_components(matrix,target_variance):\n",
        "  \"\"\"For selecting best number of n_components for capturing the variability of data well enough\"\"\"\n",
        "  n_components_selected = 0\n",
        "  while(True):\n",
        "    n_components_selected += 200\n",
        "    svd = TruncatedSVD(n_components = n_components_selected,random_state=23)\n",
        "    svd.fit(matrix)\n",
        "    if svd.explained_variance_ratio_.sum() >= target_variance :\n",
        "      break\n",
        "  return svd,n_components_selected\n",
        "\n",
        "return_components = select_n_components(matrix,0.85)\n",
        "print(\"Best Number for n_components:\",return_components[1])\n",
        "svd_matrix = return_components[0].fit_transform(matrix)"
      ],
      "metadata": {
        "id": "7FDh1tMksQ32"
      },
      "id": "7FDh1tMksQ32",
      "execution_count": null,
      "outputs": []
    },
    {
      "cell_type": "code",
      "source": [
        "svd = TruncatedSVD(n_components=1000)\n",
        "svd_matrix = svd.fit_transform(matrix)\n",
        "print(svd.explained_variance_ratio_.sum())"
      ],
      "metadata": {
        "colab": {
          "base_uri": "https://localhost:8080/"
        },
        "id": "o3mh_yVVLu10",
        "outputId": "9189aa59-66d8-4844-9656-6b2e42af39de"
      },
      "id": "o3mh_yVVLu10",
      "execution_count": 20,
      "outputs": [
        {
          "output_type": "stream",
          "name": "stdout",
          "text": [
            "0.4526052\n"
          ]
        }
      ]
    },
    {
      "cell_type": "markdown",
      "id": "cd017880",
      "metadata": {
        "id": "cd017880"
      },
      "source": [
        "### Use your choice of Approximate Nearest Neigbor after Collaborative Filtering to find nearest neighbors"
      ]
    },
    {
      "cell_type": "markdown",
      "source": [
        "###Scann"
      ],
      "metadata": {
        "id": "fnysyEEu63Js"
      },
      "id": "fnysyEEu63Js"
    },
    {
      "cell_type": "code",
      "source": [
        "!pip install scann\n",
        "import scann"
      ],
      "metadata": {
        "id": "gsVqaoZy654w"
      },
      "id": "gsVqaoZy654w",
      "execution_count": null,
      "outputs": []
    },
    {
      "cell_type": "code",
      "source": [
        "normalized_dataset = svd_matrix / np.linalg.norm(svd_matrix, axis=1)[:, np.newaxis]"
      ],
      "metadata": {
        "id": "9YyCIJJq7CS9"
      },
      "id": "9YyCIJJq7CS9",
      "execution_count": 27,
      "outputs": []
    },
    {
      "cell_type": "code",
      "execution_count": 29,
      "id": "5ee1d377",
      "metadata": {
        "id": "5ee1d377"
      },
      "outputs": [],
      "source": [
        "def neighbors(user,k_value,normalized_dataset):\n",
        "  \"\"\" returns an iterable object (like list or generator) \"\"\"\n",
        "  searcher = scann.scann_ops_pybind.builder(normalized_dataset, 20, \"dot_product\")\n",
        "  #step 1: Partitioning\n",
        "  searcher = searcher.tree(num_leaves=252, num_leaves_to_search=100, training_sample_size=len(normalized_dataset))\n",
        "  #step2: Scoring\n",
        "  searcher = searcher.score_ah(2, anisotropic_quantization_threshold=0.2).reorder(100).build()\n",
        "  #step3: Re-Scoring\n",
        "  neigh, distances = searcher.search(svd_matrix[user_tags[user]], final_num_neighbors=6)\n",
        "  neighbors_scann = []\n",
        "  for j in neigh:\n",
        "    if j != user_tags[user]:    #Exclude user himself from the neighbors list\n",
        "      for l in user_tags.keys():\n",
        "        if user_tags[l] == j:\n",
        "          neighbors_scann.append(l)\n",
        "  #print(neighbor_tags)\n",
        "  print(\"Neighbors:\",neighbors_scann)\n",
        "  return neighbors_scann"
      ]
    },
    {
      "cell_type": "code",
      "source": [
        "neigh = neighbors(user,k_value,normalized_dataset)"
      ],
      "metadata": {
        "colab": {
          "base_uri": "https://localhost:8080/"
        },
        "id": "6R2kNCuMuSyS",
        "outputId": "c5dd74e3-190a-4a12-a928-f04f526ff3d8"
      },
      "id": "6R2kNCuMuSyS",
      "execution_count": 30,
      "outputs": [
        {
          "output_type": "stream",
          "name": "stdout",
          "text": [
            "Neighbors: [1333087, 1815092, 2059570, 3613632, 938435]\n"
          ]
        }
      ]
    },
    {
      "cell_type": "markdown",
      "id": "142440b0",
      "metadata": {
        "id": "142440b0"
      },
      "source": [
        "### Open the output file to write all the lines to the file"
      ]
    },
    {
      "cell_type": "code",
      "execution_count": 32,
      "id": "977b08f9",
      "metadata": {
        "id": "977b08f9"
      },
      "outputs": [],
      "source": [
        "outFile = open(\"output.txt\", 'w')\n",
        "liked_items = set(user_likes[user])\n",
        "for n_user in neigh:\n",
        "  for item_id in user_likes[n_user]:\n",
        "    if item_id not in liked_items:\n",
        "      outFile.write(str(item_id) + ' ' + str(n_user) + '\\n')\n",
        "      liked_items.add(item_id)\n",
        "outFile.close()"
      ]
    },
    {
      "cell_type": "markdown",
      "id": "0b6f24d6",
      "metadata": {
        "id": "0b6f24d6"
      },
      "source": [
        "### Answer the following questions:"
      ]
    },
    {
      "cell_type": "markdown",
      "id": "012f72f8",
      "metadata": {
        "id": "012f72f8"
      },
      "source": [
        "#### Q1. **Explain how your choice of library works**\n",
        "\n",
        "I am using ScaNN Library for implementation\n",
        "> Working of the ScaNN Library:\n",
        "*     Will be consisting of Three parts in implementation:\n",
        "1.   Partitioning\n",
        ">>*   It creates Partitions during training time. \n",
        ">>*   At query time it selects top partitions to find nearest neighbors in the total training datapoints in partitions for next step.\n",
        "2.Scoring\n",
        ">>*   Computes distance from the test-data point to all the datapoints in the top partitions selected in step-1\n",
        ">>*   Scoring function returns nearest K' datapoints (K' > k) to the next step. \n",
        "3.Recoring:\n",
        ">>*   From the best K' points returned from the previous step, re-computes these distances more accurately using dot-product.\n",
        ">>*   We Normalized the dataset  before training, so dot-product will give us Cosine Similarity between datapoints.   \n",
        ">>*   It returns K+1 nearest datapoints, In which test datapoint is also included.\n"
      ]
    },
    {
      "cell_type": "markdown",
      "id": "3b0ac14b",
      "metadata": {
        "id": "3b0ac14b"
      },
      "source": [
        "#### Q2. **Compare your choice of library with vanilla KNN.**\n",
        "```\n",
        "Vanilla KNN Time Complexity: O(ndk)\n",
        "ScaNN Library KNN: O(pdk)\n",
        "    n: Number of datapoints in training dataset\n",
        "    p: Partition size\n",
        "    d: Dimensionality of datapoint\n",
        "    k: Number of Neighbors\n",
        "```\n",
        "*   Even we use Asymetric hashing for distance calculation in top partitions made.\n",
        "*   we only use actual distance measure for Rescoring part to find best K Neighbors out of K' neighbors returned in second step. "
      ]
    },
    {
      "cell_type": "markdown",
      "id": "400d7827",
      "metadata": {
        "id": "400d7827"
      },
      "source": [
        "#### Q3. **Compare your choice of library with implementation of ScaNN, faiss and annoy.**\n",
        "*   In annoy it is mentioned it works best for datasets with dimensionality n some 100's and we can observe better results when dimensionality less than 100. But here we are using datasets of higher dimensionality.\n",
        "*   Whereas In Scann, we can even use it for higher dimensionality dataset.  "
      ]
    },
    {
      "cell_type": "markdown",
      "source": [
        "####FAISS"
      ],
      "metadata": {
        "id": "ZIqvG9z2LwkH"
      },
      "id": "ZIqvG9z2LwkH"
    },
    {
      "cell_type": "code",
      "source": [
        "# pip install faiss-cpu --no-cache\n",
        "# import faiss\n",
        "# print(index.is_trained)\n",
        "# index = faiss.IndexFlatL2(4000)\n",
        "# index.add(matrix.toarray())\n",
        "# test = list(svd_matrix[user_tags[user]])\n",
        "# test1 = []\n",
        "# test1.append(test)\n",
        "# test_case = np.array(test1)\n",
        "# test_case = np.array(test_case)\n",
        "# test_case.shape\n",
        "# D, I = index.search(test_case,5)\n",
        "# neighbors = []\n",
        "# for j in I[0]:\n",
        "#   for l in user_tags.keys():\n",
        "#     if user_tags[l] == j:\n",
        "#       neighbors.append(l)\n",
        "# print(I)\n",
        "# print(neighbors)\n",
        "# for item in neighbors:\n",
        "#   print(user_likes[item])"
      ],
      "metadata": {
        "id": "EO4NqGBSL0xt"
      },
      "id": "EO4NqGBSL0xt",
      "execution_count": null,
      "outputs": []
    }
  ],
  "metadata": {
    "kernelspec": {
      "display_name": "Python 3",
      "language": "python",
      "name": "python3"
    },
    "language_info": {
      "codemirror_mode": {
        "name": "ipython",
        "version": 3
      },
      "file_extension": ".py",
      "mimetype": "text/x-python",
      "name": "python",
      "nbconvert_exporter": "python",
      "pygments_lexer": "ipython3",
      "version": "3.8.10"
    },
    "colab": {
      "name": "2021201069_Assignment1_Question2.ipynb",
      "provenance": []
    }
  },
  "nbformat": 4,
  "nbformat_minor": 5
}
