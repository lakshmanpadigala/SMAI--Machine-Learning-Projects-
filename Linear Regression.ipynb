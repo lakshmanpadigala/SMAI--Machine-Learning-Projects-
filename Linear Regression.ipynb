{
  "cells": [
    {
      "cell_type": "markdown",
      "id": "improving-pepper",
      "metadata": {
        "id": "improving-pepper"
      },
      "source": [
        "# Assignment 2 - Question 2\n",
        "The objective of this assignment is to get you familiarize with  the  problem  of  `Linear Regression`.\n",
        "\n",
        "## Instructions\n",
        "- Write your code and analysis in the indicated cells.\n",
        "- Ensure that this notebook runs without errors when the cells are run in sequence.\n",
        "- Do not attempt to change the contents of other cells.\n",
        "- No inbuilt functions to be used until specified\n",
        "\n",
        "## Submission\n",
        "- Ensure that this notebook runs without errors when the cells are run in sequence.\n",
        "- Rename the notebook to `<roll_number>_Assignment2_Q2.ipynb`."
      ]
    },
    {
      "cell_type": "markdown",
      "id": "final-transaction",
      "metadata": {
        "id": "final-transaction"
      },
      "source": [
        "## 2.0 Background about the dataset\n",
        "\n",
        "TLDR: You have 4 independent variables (`float`) for each molecule. You can use a linear combination of these 4 independent variables to predict the bandgap (dependent variable) of each molecule.\n",
        "\n",
        "You can read more about the problem in [Li et al, Bandgap tuning strategy by cations and halide ions of lead halide perovskites learned from machine learning, RSC Adv., 2021,11, 15688-15694](https://doi.org/10.1039/D1RA03117A)."
      ]
    },
    {
      "cell_type": "code",
      "source": [
        "!pip install tabulate"
      ],
      "metadata": {
        "colab": {
          "base_uri": "https://localhost:8080/"
        },
        "id": "hPscAmBxj9Qf",
        "outputId": "eeac5ac4-522c-4160-cec0-e0f5687a5aae"
      },
      "id": "hPscAmBxj9Qf",
      "execution_count": 12,
      "outputs": [
        {
          "output_type": "stream",
          "name": "stdout",
          "text": [
            "Requirement already satisfied: tabulate in /usr/local/lib/python3.7/dist-packages (0.8.9)\n"
          ]
        }
      ]
    },
    {
      "cell_type": "code",
      "execution_count": 14,
      "id": "lyric-olympus",
      "metadata": {
        "id": "lyric-olympus"
      },
      "outputs": [],
      "source": [
        "import csv\n",
        "import random\n",
        "import numpy as np\n",
        "from sklearn.preprocessing import StandardScaler\n",
        "sc = StandardScaler()\n",
        "import sys\n",
        "import matplotlib.pyplot as plt\n",
        "from tabulate import tabulate"
      ]
    },
    {
      "cell_type": "code",
      "execution_count": 15,
      "id": "hundred-receipt",
      "metadata": {
        "id": "hundred-receipt"
      },
      "outputs": [],
      "source": [
        "all_molecules = list()\n",
        "\n",
        "with open('bg_data.txt', 'r') as infile:\n",
        "    input_rows = csv.DictReader(infile)\n",
        "    \n",
        "    for row in input_rows:\n",
        "        current_mol = ([float(row['Cs']), float(row['FA']), float(row['Cl']), float(row['Br'])], float(row['Bandgap']))\n",
        "        all_molecules.append(current_mol)\n",
        "\n",
        "random.shuffle(all_molecules)"
      ]
    },
    {
      "cell_type": "code",
      "source": [
        "x = []\n",
        "y = []\n",
        "for i in range(len(all_molecules)):\n",
        "  x.append(all_molecules[i][0])\n",
        "  y.append(all_molecules[i][1])\n",
        "x = sc.fit_transform(x)\n",
        "del all_molecules"
      ],
      "metadata": {
        "id": "Sy6KzI5V-YC7"
      },
      "id": "Sy6KzI5V-YC7",
      "execution_count": 16,
      "outputs": []
    },
    {
      "cell_type": "code",
      "source": [
        "num_train = int(len(x) * 0.8)\n",
        "\n",
        "# each point in x_train has 4 values - 1 for each feature\n",
        "x_train = x[:num_train]\n",
        "# each point in y_train has 1 value - the bandgap of the molecule\n",
        "y_train = y[:num_train]\n",
        "\n",
        "x_test = x[num_train:]\n",
        "y_test = y[num_train:]\n",
        "\n",
        "del x,y"
      ],
      "metadata": {
        "id": "dIIyVhr9-MV3"
      },
      "id": "dIIyVhr9-MV3",
      "execution_count": 17,
      "outputs": []
    },
    {
      "cell_type": "code",
      "source": [
        "print(x_test.shape)\n",
        "print()\n",
        "x_train.shape"
      ],
      "metadata": {
        "colab": {
          "base_uri": "https://localhost:8080/"
        },
        "id": "LYhf2YNSBIFU",
        "outputId": "a4c233d4-7a51-4aee-add1-e43eff5b819e"
      },
      "id": "LYhf2YNSBIFU",
      "execution_count": 18,
      "outputs": [
        {
          "output_type": "stream",
          "name": "stdout",
          "text": [
            "(22, 4)\n",
            "\n"
          ]
        },
        {
          "output_type": "execute_result",
          "data": {
            "text/plain": [
              "(87, 4)"
            ]
          },
          "metadata": {},
          "execution_count": 18
        }
      ]
    },
    {
      "cell_type": "markdown",
      "id": "square-direction",
      "metadata": {
        "id": "square-direction"
      },
      "source": [
        "### 2.1 Implement a Linear Regression model that minimizes the MSE **without using any libraries**. You may use NumPy to vectorize your code, but *do not use numpy.polyfit* or anything similar.\n",
        "\n",
        "2.1.1 Explain how you plan to implement Linear Regression in 5-10 lines."
      ]
    },
    {
      "cell_type": "markdown",
      "id": "frozen-forth",
      "metadata": {
        "id": "frozen-forth"
      },
      "source": [
        "<!-- your answer to 1.1.1 -->\n",
        "1. Pre-process the Data and Prepare the train_test Split set.\n",
        "2. Define the cost function for the fit.\n",
        "```\n",
        "y_pred = W0 + W1 * X1 + W2 * X2 + W3 * X3 + W4 * X4 \n",
        "J(x,w) = sum over x[( y_pred - Y_actual ) ^ 2]\n",
        "```\n",
        "3. Define Gradient descent Function\n",
        "```\n",
        "W(t+1) = W(t) - LearningRate * J'(x,w)\n",
        "J'(x,w) = [ (y_pred - y_actual)x ] / len(dataset)\n",
        "```\n",
        "4. Start Gradient descent for Arbitary Weights vector and Arbitary Learning Rate until Cost function value becomes consitent."
      ]
    },
    {
      "cell_type": "markdown",
      "id": "addressed-winter",
      "metadata": {
        "id": "addressed-winter"
      },
      "source": [
        "2.1.2 Implement Linear Regression using `x_train` and `y_train` as the train dataset.\n",
        "\n",
        "2.1.2.1 Choose the best learning rate and print the learning rate for which you achieved the best MSE."
      ]
    },
    {
      "cell_type": "code",
      "execution_count": 19,
      "id": "angry-depression",
      "metadata": {
        "id": "angry-depression"
      },
      "outputs": [],
      "source": [
        "# implement Linear Regression\n",
        "def cost_function(x,y,w,bias):\n",
        "  #print(len((x.dot(w) + w0 - y)**2))\n",
        "  cost = np.sum((np.dot(x,w) + bias - y)**2) / (2*len(x))\n",
        "  return cost"
      ]
    },
    {
      "cell_type": "code",
      "source": [
        "def Gradient_descent(x,y,w,bias,learning_rate):\n",
        "  y_pred = x.dot(w) + bias\n",
        "  loss = y_pred - y\n",
        "  w = w - learning_rate * (np.dot(x.transpose(),loss) / len(x) )\n",
        "  bias = bias - learning_rate * np.sum(loss) / len(x)\n",
        "  return w,bias"
      ],
      "metadata": {
        "id": "8BXNJ2MuOjp9"
      },
      "id": "8BXNJ2MuOjp9",
      "execution_count": 20,
      "outputs": []
    },
    {
      "cell_type": "code",
      "source": [
        "\"\"\"Linear Regression, this program till the cost value saturates, epochs are not fixed. It may be different for differt intial variables\"\"\"\n",
        "def Linear_regression(x,y,w,bias,learning_rate):\n",
        "  cost_vector = []\n",
        "  prev_cost = sys.maxsize\n",
        "  while True:\n",
        "    w,bias = Gradient_descent(x,y,w,bias,learning_rate)\n",
        "    cost = cost_function(x,y,w,bias)\n",
        "    cost_vector.append(cost)\n",
        "    if prev_cost - cost < 0.00000001 :\n",
        "      break\n",
        "    prev_cost = cost\n",
        "  return w,bias,cost_vector"
      ],
      "metadata": {
        "id": "DKo-5Tt0UwHZ"
      },
      "id": "DKo-5Tt0UwHZ",
      "execution_count": 28,
      "outputs": []
    },
    {
      "cell_type": "code",
      "source": [
        "\"\"\"Here we are performing Linear Regression with different combination of Learning rates and weight parameters\"\"\" \n",
        "\n",
        "learning_rate = [0.1,0.08,0.05,0.01,0.005,0.002,0.001,0.0005]\n",
        "weights = [0,0.5,1,2]\n",
        "location = 0\n",
        "w_dist = {}\n",
        "bias_dict = {}\n",
        "cost_vector_dict = {}\n",
        "alpha_dict = {}\n",
        "weight_dict = {}\n",
        "for alpha in learning_rate:\n",
        "  for weight in weights:\n",
        "    w,bias,cost_vector = Linear_regression(x_train,y_train,[weight for i in range(x_train.shape[1])], weight, alpha)\n",
        "    w_dist[location] = w\n",
        "    bias_dict[location] = bias\n",
        "    cost_vector_dict[location] = cost_vector\n",
        "    alpha_dict[location] = alpha\n",
        "    weight_dict[location] = weight\n",
        "    a = len(weights)\n",
        "    b= len(learning_rate)\n",
        "    # plt.subplot(a*b,1,location+1)\n",
        "    # plt.plot(cost_vector)\n",
        "    location += 1\n",
        "#plt.show()"
      ],
      "metadata": {
        "id": "bpqZjBwwxOlq"
      },
      "id": "bpqZjBwwxOlq",
      "execution_count": 24,
      "outputs": []
    },
    {
      "cell_type": "code",
      "source": [
        "\"\"\"After performing the Experiments with different Intial Parameters and Learning rate, where I get the min cost, I take that Intial Parameters and Learning rate\"\"\"\n",
        "\n",
        "table_data = []\n",
        "min_cost = sys.maxsize\n",
        "opt_alpha = 0\n",
        "opt_weight = 0\n",
        "final_para = 0\n",
        "for i in range(0,location):\n",
        "  row = []\n",
        "  row.append(w_dist[i])\n",
        "  row.append(bias_dict[i])\n",
        "  row.append(len(cost_vector_dict[i]))\n",
        "  row.append(cost_vector_dict[i][-1])\n",
        "  if cost_vector_dict[i][-1] < min_cost:\n",
        "    min_cost = cost_vector_dict[i][-1]\n",
        "    opt_alpha = alpha_dict[i]\n",
        "    opt_wieght = weight_dict[i]\n",
        "    final_para = w_dist[i]\n",
        "    final_bias = bias_dict[i]\n",
        "  table_data.append(row)\n",
        "head = [\"weights\",\"bias\",\"Epoachs\",\"Cost Value\"]\n",
        "print(tabulate(table_data, head, tablefmt=\"grid\"))\n",
        "print(\"Optminal Learning rate:\",opt_alpha,\"Optimanl Intial weights:\",opt_weight)\n",
        "print(\"Final Weights\",final_para,\"Final Bias\",final_bias)"
      ],
      "metadata": {
        "colab": {
          "base_uri": "https://localhost:8080/"
        },
        "id": "-d0dryUW2Kt7",
        "outputId": "4cccc506-ed8c-4239-9561-09d6013c2037"
      },
      "id": "-d0dryUW2Kt7",
      "execution_count": 25,
      "outputs": [
        {
          "output_type": "stream",
          "name": "stdout",
          "text": [
            "+---------------------------------------------------+---------+-----------+--------------+\n",
            "| weights                                           |    bias |   Epoachs |   Cost Value |\n",
            "+===================================================+=========+===========+==============+\n",
            "| [-0.01118438 -0.03111899  0.3927502   0.18751888] | 1.95029 |       143 |   0.00148897 |\n",
            "+---------------------------------------------------+---------+-----------+--------------+\n",
            "| [-0.01083159 -0.03026396  0.3936821   0.18777407] | 1.9504  |       145 |   0.00148897 |\n",
            "+---------------------------------------------------+---------+-----------+--------------+\n",
            "| [-0.01083132 -0.03025713  0.39369902  0.18777283] | 1.95041 |       168 |   0.00148897 |\n",
            "+---------------------------------------------------+---------+-----------+--------------+\n",
            "| [-0.01083634 -0.03026839  0.39368839  0.1877688 ] | 1.9504  |       187 |   0.00148897 |\n",
            "+---------------------------------------------------+---------+-----------+--------------+\n",
            "| [-0.01120712 -0.03117673  0.39268397  0.1875025 ] | 1.95028 |       176 |   0.001489   |\n",
            "+---------------------------------------------------+---------+-----------+--------------+\n",
            "| [-0.01080944 -0.03021233  0.39373537  0.18779043] | 1.95041 |       179 |   0.00148899 |\n",
            "+---------------------------------------------------+---------+-----------+--------------+\n",
            "| [-0.01081059 -0.03020727  0.3937528   0.18778789] | 1.95041 |       208 |   0.001489   |\n",
            "+---------------------------------------------------+---------+-----------+--------------+\n",
            "| [-0.01081005 -0.03020486  0.39375746  0.18778778] | 1.95041 |       231 |   0.001489   |\n",
            "+---------------------------------------------------+---------+-----------+--------------+\n",
            "| [-0.01126191 -0.03131698  0.39252188  0.18746292] | 1.95026 |       272 |   0.00148908 |\n",
            "+---------------------------------------------------+---------+-----------+--------------+\n",
            "| [-0.01074801 -0.03006984  0.39388145  0.18783586] | 1.95042 |       277 |   0.00148908 |\n",
            "+---------------------------------------------------+---------+-----------+--------------+\n",
            "| [-0.01075298 -0.03006882  0.39390196  0.18782978] | 1.95043 |       324 |   0.00148908 |\n",
            "+---------------------------------------------------+---------+-----------+--------------+\n",
            "| [-0.01075226 -0.03006524  0.39390914  0.18782954] | 1.95043 |       361 |   0.00148908 |\n",
            "+---------------------------------------------------+---------+-----------+--------------+\n",
            "| [-0.01155127 -0.03208236  0.39161127  0.18725061] | 1.95013 |      1189 |   0.00148998 |\n",
            "+---------------------------------------------------+---------+-----------+--------------+\n",
            "| [-0.01037969 -0.02923422  0.39471118  0.18810964] | 1.95049 |      1210 |   0.00148998 |\n",
            "+---------------------------------------------------+---------+-----------+--------------+\n",
            "| [-0.01041485 -0.02925925  0.39476876  0.18807684] | 1.95053 |      1449 |   0.00148998 |\n",
            "+---------------------------------------------------+---------+-----------+--------------+\n",
            "| [-0.01042219 -0.02926851  0.39477299  0.18806871] | 1.95053 |      1638 |   0.00148998 |\n",
            "+---------------------------------------------------+---------+-----------+--------------+\n",
            "| [-0.01175314 -0.03264036  0.39092279  0.18709873] | 1.95001 |      2225 |   0.0014911  |\n",
            "+---------------------------------------------------+---------+-----------+--------------+\n",
            "| [-0.01009871 -0.02861359  0.39530277  0.18831927] | 1.95053 |      2267 |   0.00149109 |\n",
            "+---------------------------------------------------+---------+-----------+--------------+\n",
            "| [-0.01016309 -0.02865939  0.39540593  0.18826181] | 1.9506  |      2745 |   0.00149111 |\n",
            "+---------------------------------------------------+---------+-----------+--------------+\n",
            "| [-0.01017324 -0.02866823  0.39542217  0.18824972] | 1.95061 |      3122 |   0.00149111 |\n",
            "+---------------------------------------------------+---------+-----------+--------------+\n",
            "| [-0.01212324 -0.03371688  0.38954123  0.18681041] | 1.94976 |      5055 |   0.00149443 |\n",
            "+---------------------------------------------------+---------+-----------+--------------+\n",
            "| [-0.00951847 -0.02736625  0.39644029  0.18875258] | 1.95059 |      5158 |   0.00149444 |\n",
            "+---------------------------------------------------+---------+-----------+--------------+\n",
            "| [-0.0096581  -0.02746266  0.39666614  0.18863482] | 1.95073 |      6350 |   0.00149448 |\n",
            "+---------------------------------------------------+---------+-----------+--------------+\n",
            "| [-0.00968071 -0.02748212  0.39670128  0.18860912] | 1.95075 |      7293 |   0.00149449 |\n",
            "+---------------------------------------------------+---------+-----------+--------------+\n",
            "| [-0.01249901 -0.0348872   0.38796411  0.18650161] | 1.94942 |      9344 |   0.00149996 |\n",
            "+---------------------------------------------------+---------+-----------+--------------+\n",
            "| [-0.00884032 -0.02595339  0.39765922  0.18925827] | 1.95061 |      9551 |   0.00149996 |\n",
            "+---------------------------------------------------+---------+-----------+--------------+\n",
            "| [-0.00908333 -0.02610975  0.39807533  0.18906197] | 1.95088 |     11922 |   0.00150011 |\n",
            "+---------------------------------------------------+---------+-----------+--------------+\n",
            "| [-0.00912526 -0.02614667  0.39813638  0.18901618] | 1.95091 |     13809 |   0.00150011 |\n",
            "+---------------------------------------------------+---------+-----------+--------------+\n",
            "| [-0.01296438 -0.03646289  0.38572162  0.18608981] | 1.94887 |     17173 |   0.00151089 |\n",
            "+---------------------------------------------------+---------+-----------+--------------+\n",
            "| [-0.00784458 -0.02394389  0.39928758  0.18999784] | 1.95057 |     17585 |   0.00151091 |\n",
            "+---------------------------------------------------+---------+-----------+--------------+\n",
            "| [-0.00826178 -0.02419084  0.40004944  0.18967626] | 1.95108 |     22288 |   0.00151134 |\n",
            "+---------------------------------------------------+---------+-----------+--------------+\n",
            "| [-0.00833607 -0.02425281  0.40016338  0.18959728] | 1.95114 |     26059 |   0.00151137 |\n",
            "+---------------------------------------------------+---------+-----------+--------------+\n",
            "Optminal Learning rate: 0.1 Optimanl Intial weights: 0\n",
            "Final Weights [-0.01083634 -0.03026839  0.39368839  0.1877688 ] Final Bias 1.9504047165239526\n"
          ]
        }
      ]
    },
    {
      "cell_type": "code",
      "source": [
        "w,bias,cost_vector = Linear_regression(x_train,y_train,[opt_weight for i in range(x_train.shape[1])], opt_weight, opt_alpha)"
      ],
      "metadata": {
        "id": "QfMQDPPmViJG"
      },
      "id": "QfMQDPPmViJG",
      "execution_count": 26,
      "outputs": []
    },
    {
      "cell_type": "markdown",
      "source": [
        "*Best Learning Rate: **0.1** For minimun RMSE*"
      ],
      "metadata": {
        "id": "FpMqv7cl3SeA"
      },
      "id": "FpMqv7cl3SeA"
    },
    {
      "cell_type": "code",
      "source": [
        "print(\"After Performing the Experiments with differn Learning rates, the Best learning rate is: \",opt_alpha,\" Fro which RMSE is minimal\")"
      ],
      "metadata": {
        "colab": {
          "base_uri": "https://localhost:8080/"
        },
        "id": "FrlfBkgY2pJr",
        "outputId": "be1c2306-54ea-4c95-c6b7-8d5c534b2d6b"
      },
      "id": "FrlfBkgY2pJr",
      "execution_count": 67,
      "outputs": [
        {
          "output_type": "stream",
          "name": "stdout",
          "text": [
            "After Performing the Experiments with differn Learning rates, the Best learning rate is:  0.1  Fro which RMSE is minimal\n"
          ]
        }
      ]
    },
    {
      "cell_type": "code",
      "source": [
        "print('Number of epochs:',len(cost_vector))\n",
        "plt.plot(cost_vector)\n",
        "plt.xlabel(\"Number of epochs\")\n",
        "plt.ylabel(\"Cost value\")\n",
        "plt.title(\"epochs vs cost\")\n",
        "plt.show()\n",
        "print(\"Weight vector:\",w)"
      ],
      "metadata": {
        "colab": {
          "base_uri": "https://localhost:8080/",
          "height": 330
        },
        "id": "mZKCJlMjfsuK",
        "outputId": "9b225edd-732d-4187-97ad-9983b8b5a4ef"
      },
      "id": "mZKCJlMjfsuK",
      "execution_count": 30,
      "outputs": [
        {
          "output_type": "stream",
          "name": "stdout",
          "text": [
            "Number of epochs: 143\n"
          ]
        },
        {
          "output_type": "display_data",
          "data": {
            "image/png": "[encoded data removed]",
            "text/plain": [
              "<Figure size 432x288 with 1 Axes>"
            ]
          },
          "metadata": {
            "needs_background": "light"
          }
        },
        {
          "output_type": "stream",
          "name": "stdout",
          "text": [
            "Weight vector: [-0.01118438 -0.03111899  0.3927502   0.18751888]\n"
          ]
        }
      ]
    },
    {
      "cell_type": "code",
      "source": [
        "\"\"\"Predicting the y-label using the optimal Parameters\"\"\"\n",
        "y_pred = []\n",
        "for item in x_test:\n",
        " result = np.dot(final_para,item)+final_bias\n",
        " y_pred.append(result)"
      ],
      "metadata": {
        "id": "aQAE4YTW6NsW"
      },
      "id": "aQAE4YTW6NsW",
      "execution_count": 31,
      "outputs": []
    },
    {
      "cell_type": "code",
      "source": [
        "for i in range(len(y_test)):\n",
        "  print(y_pred[i] - y_test[i])"
      ],
      "metadata": {
        "colab": {
          "base_uri": "https://localhost:8080/"
        },
        "id": "UFsNNu5E1zYf",
        "outputId": "63b25ab9-fa1b-4c7a-fb9b-87517250052a"
      },
      "id": "UFsNNu5E1zYf",
      "execution_count": 65,
      "outputs": [
        {
          "output_type": "stream",
          "name": "stdout",
          "text": [
            "0.12323645641711267\n",
            "-0.06006726049739175\n",
            "-0.23435540718096215\n",
            "-0.07340775160436985\n",
            "-0.07113423200435953\n",
            "-0.030906224562496476\n",
            "0.026322822178606486\n",
            "-0.10441160318121012\n",
            "0.08459658193509245\n",
            "0.1194393831989824\n",
            "0.01650482195084435\n",
            "-0.030443438718584792\n",
            "-0.022451451359577712\n",
            "-0.016716032729946484\n",
            "-0.07678045269274936\n",
            "-0.06160731960205923\n",
            "-0.03890365904621884\n",
            "-0.048461131036748206\n",
            "0.46794400457478913\n",
            "-0.14011020713926037\n",
            "0.015540535999429395\n",
            "0.028189308637925903\n"
          ]
        }
      ]
    },
    {
      "cell_type": "markdown",
      "id": "angry-tampa",
      "metadata": {
        "id": "angry-tampa"
      },
      "source": [
        "2.1.3 Make a [Parity Plot](https://en.wikipedia.org/wiki/Parity_plot) of your model's bandgap predictions on the test set with the actual values."
      ]
    },
    {
      "cell_type": "code",
      "execution_count": 33,
      "id": "foster-center",
      "metadata": {
        "id": "foster-center",
        "outputId": "83065112-3598-4fa1-9c31-831d71e407ed",
        "colab": {
          "base_uri": "https://localhost:8080/",
          "height": 653
        }
      },
      "outputs": [
        {
          "output_type": "stream",
          "name": "stdout",
          "text": [
            "Root Mean Square Error: 0.13026419629963065\n"
          ]
        },
        {
          "output_type": "display_data",
          "data": {
            "image/png": "[encoded data removed]",
            "text/plain": [
              "<Figure size 720x1440 with 1 Axes>"
            ]
          },
          "metadata": {
            "needs_background": "light"
          }
        }
      ],
      "source": [
        "import matplotlib.pyplot as plt\n",
        "from sklearn.metrics import mean_squared_error\n",
        "\n",
        "fig, ax = plt.subplots(figsize=(10,20))\n",
        "\n",
        "ax.scatter(y_test, y_pred)\n",
        "\n",
        "lims = [\n",
        "    np.min([ax.get_xlim(), ax.get_ylim()]),\n",
        "    np.max([ax.get_xlim(), ax.get_ylim()]),\n",
        "]\n",
        "ax.plot(lims, lims, 'k-', alpha=0.75, zorder=0)\n",
        "ax.set_aspect('equal')\n",
        "ax.set_xlim(lims)\n",
        "ax.set_ylim(lims)\n",
        "\n",
        "ax.set_title('Parity Plot of Custom Linear Regression')\n",
        "ax.set_xlabel('Ground truth bandgap values')\n",
        "ax.set_ylabel('Predicted bandgap values')\n",
        "rmse1 = np.sqrt(mean_squared_error(y_test,y_pred))\n",
        "print(\"Root Mean Square Error:\",rmse1)\n",
        "plt.show()"
      ]
    },
    {
      "cell_type": "markdown",
      "id": "dominant-chaos",
      "metadata": {
        "id": "dominant-chaos"
      },
      "source": [
        "### 2.2 Implement Ridge regression\n",
        "2.2.1 Explain Ridge regression briefly in 1-2 lines."
      ]
    },
    {
      "cell_type": "markdown",
      "id": "happy-cyprus",
      "metadata": {
        "id": "happy-cyprus"
      },
      "source": [
        "<!-- Your answer to 1.2.1 -->\n",
        "*     Ridge regression is an extention for normal Linear Regression. The cost function of the Linear Regression is modified to minimize the complexity of the Model. \n",
        "*     The Modificaion is done by adding a penality parameter to the cost function, the square of magnitude of parameters.\n",
        "\n",
        "```\n",
        "Cost Function = min Σ(y_pred - y)^2 + α ( W0 ^2 + W1^2 + W2^2 + ....)\n",
        "```\n",
        "-     Hence ridge regression reduces the magnitudes of the coefficients that will help in decreasing the complexity of the model.\n",
        "   "
      ]
    },
    {
      "cell_type": "markdown",
      "id": "tight-forwarding",
      "metadata": {
        "id": "tight-forwarding"
      },
      "source": [
        "2.2.2 Implement Ridge regression and make a table of different RMSE scores you achieved with different values of alpha. What does the parameter `alpha` do? How does it affect the results here? Explain in 5-10 lines in total. (You can use scikit-learn from this cell onwards)"
      ]
    },
    {
      "cell_type": "code",
      "execution_count": 34,
      "id": "violent-northern",
      "metadata": {
        "id": "violent-northern"
      },
      "outputs": [],
      "source": [
        "# you should not have imported sklearn before this point\n",
        "import sklearn\n",
        "from sklearn.linear_model import LinearRegression\n",
        "from sklearn.linear_model import Ridge\n",
        "from sklearn.linear_model import Lasso\n",
        "from sklearn.metrics import r2_score\n",
        "from sklearn.metrics import mean_squared_error\n",
        "from math import sqrt\n",
        "from tabulate import tabulate\n",
        " \n",
        "# implement Ridge regression and make a table where you explore the effect of different values of `alpha`"
      ]
    },
    {
      "cell_type": "code",
      "source": [
        "alpha = [0.001,0.002,0.005,0.008,0.01,0.02,0.03,0.04,0.05,0.08,0.1,0.2,0.4,0.6,0.8,1]\n",
        "values = []\n",
        "header = [\"alpha values(α)\",\"RMSE Score\",\"Weight Parametrs / Model Coefficients\"]\n",
        "for value in alpha:\n",
        "  rr = Ridge(alpha=value)\n",
        "  rr.fit(x_train, y_train)\n",
        "  pred_test_rr= rr.predict(x_test)\n",
        "  rmse = np.sqrt(mean_squared_error(y_test,pred_test_rr))\n",
        "  temp = [value,rmse,rr.coef_]\n",
        "  values.append(temp)\n",
        "print(tabulate(values, header, tablefmt=\"grid\"))\n",
        "plt.plot(alpha,[row[1] for row in values])\n",
        "plt.plot(alpha,[row[1] for row in values],'bo')\n",
        "plt.ylabel(\"Rsme Error\")\n",
        "plt.xlabel(\"α-value\")\n",
        "plt.show()"
      ],
      "metadata": {
        "colab": {
          "base_uri": "https://localhost:8080/",
          "height": 887
        },
        "id": "41FbH9xUsddK",
        "outputId": "243c0297-e351-4a78-d190-6f67999bb2b8"
      },
      "id": "41FbH9xUsddK",
      "execution_count": 59,
      "outputs": [
        {
          "output_type": "stream",
          "name": "stdout",
          "text": [
            "+-------------------+--------------+---------------------------------------------------+\n",
            "|   alpha values(α) |   RMSE Score | Weight Parametrs / Model Coefficients             |\n",
            "+===================+==============+===================================================+\n",
            "|             0.001 |     0.130149 | [-0.01101314 -0.03069849  0.39321529  0.18763883] |\n",
            "+-------------------+--------------+---------------------------------------------------+\n",
            "|             0.002 |     0.130149 | [-0.01101315 -0.03070108  0.39320783  0.18763615] |\n",
            "+-------------------+--------------+---------------------------------------------------+\n",
            "|             0.005 |     0.130148 | [-0.0110132  -0.03070884  0.39318544  0.1876281 ] |\n",
            "+-------------------+--------------+---------------------------------------------------+\n",
            "|             0.008 |     0.130147 | [-0.01101324 -0.0307166   0.39316305  0.18762005] |\n",
            "+-------------------+--------------+---------------------------------------------------+\n",
            "|             0.01  |     0.130147 | [-0.01101327 -0.03072177  0.39314813  0.18761468] |\n",
            "+-------------------+--------------+---------------------------------------------------+\n",
            "|             0.02  |     0.130144 | [-0.01101341 -0.03074762  0.39307353  0.18758785] |\n",
            "+-------------------+--------------+---------------------------------------------------+\n",
            "|             0.03  |     0.130141 | [-0.01101354 -0.03077345  0.39299896  0.18756104] |\n",
            "+-------------------+--------------+---------------------------------------------------+\n",
            "|             0.04  |     0.130139 | [-0.01101368 -0.03079926  0.39292442  0.18753423] |\n",
            "+-------------------+--------------+---------------------------------------------------+\n",
            "|             0.05  |     0.130136 | [-0.01101381 -0.03082505  0.39284992  0.18750743] |\n",
            "+-------------------+--------------+---------------------------------------------------+\n",
            "|             0.08  |     0.130129 | [-0.01101417 -0.0309023   0.3926266   0.1874271 ] |\n",
            "+-------------------+--------------+---------------------------------------------------+\n",
            "|             0.1   |     0.130125 | [-0.0110144  -0.0309537   0.39247789  0.18737359] |\n",
            "+-------------------+--------------+---------------------------------------------------+\n",
            "|             0.2   |     0.130107 | [-0.01101535 -0.03120955  0.39173623  0.18710665] |\n",
            "+-------------------+--------------+---------------------------------------------------+\n",
            "|             0.4   |     0.130093 | [-0.01101626 -0.03171544  0.39026246  0.18657567] |\n",
            "+-------------------+--------------+---------------------------------------------------+\n",
            "|             0.6   |     0.130106 | [-0.01101588 -0.03221371  0.38880128  0.18604853] |\n",
            "+-------------------+--------------+---------------------------------------------------+\n",
            "|             0.8   |     0.130146 | [-0.01101425 -0.03270448  0.3873525   0.18552518] |\n",
            "+-------------------+--------------+---------------------------------------------------+\n",
            "|             1     |     0.130212 | [-0.01101141 -0.03318789  0.38591597  0.18500556] |\n",
            "+-------------------+--------------+---------------------------------------------------+\n"
          ]
        },
        {
          "output_type": "display_data",
          "data": {
            "image/png": "[encoded data removed]",
            "text/plain": [
              "<Figure size 432x288 with 1 Axes>"
            ]
          },
          "metadata": {
            "needs_background": "light"
          }
        }
      ]
    },
    {
      "cell_type": "markdown",
      "source": [
        "Effect of α:\n",
        "-   We Perform Regularation to avoid ovefitting, and reduce the complexity of the model.\n",
        "-   If we set the hyperparameter alpha to some large number, The coefficients will be zero. Because of the large weightage on square of coefficients, anything less than zero will make the objective large.\n",
        "-   Or If we set the α value very low or equal to Ο, then the model becomes same as Normal Linear Regression.\n",
        "-   The magnitude of α will decide the weightage given to different parts of objective"
      ],
      "metadata": {
        "id": "KQK1Bd6NnDY9"
      },
      "id": "KQK1Bd6NnDY9"
    },
    {
      "cell_type": "markdown",
      "id": "adolescent-temperature",
      "metadata": {
        "id": "adolescent-temperature"
      },
      "source": [
        "### 2.3 Implement Lasso regression\n",
        "2.3.1 Explain Lasso regression briefly in 1-2 lines."
      ]
    },
    {
      "cell_type": "markdown",
      "source": [
        "*     Lasso regression is an extention for normal Linear Regression. The cost function of the Linear Regression is modified to minimize the complexity of the Model. Also called as **Least Absolute Shrinkage and Selection Operator** \n",
        "*     The Modificaion is done by adding a penality parameter to the cost function, the Sum of Absolute values of the magnitude of Weight Parameters.\n",
        "\n",
        "\n",
        "```\n",
        "Cost Function = min Σ(y_pred - y)^2 + α ( |W0| + |W1| + |W2| + ....)\n",
        "```\n",
        "-  In the case of lasso regression, apart from reducing the complexity of the model, it helps in automatic feature selection also. Lasso regression transforms the coefficient values to zero. The feature whose coefficients become equal to zero is less important in predicting the target variable and hence it can be dropped from the model. \n",
        "-     Which may also result in reducing the accuracy of the model by omiting some features by loosing Information."
      ],
      "metadata": {
        "id": "qoOBA4Z_vNar"
      },
      "id": "qoOBA4Z_vNar"
    },
    {
      "cell_type": "markdown",
      "id": "popular-wonder",
      "metadata": {
        "id": "popular-wonder"
      },
      "source": [
        "2.3.2 Implement Lasso regression and make a table of different RMSE scores you achieved with different values of alpha. What does the parameter `alpha` do? How does it affect the results here? Explain in 5-10 lines in total."
      ]
    },
    {
      "cell_type": "code",
      "execution_count": 60,
      "id": "extra-brighton",
      "metadata": {
        "id": "extra-brighton",
        "colab": {
          "base_uri": "https://localhost:8080/",
          "height": 887
        },
        "outputId": "bee51c63-a52c-44b8-952e-304632c07fe9"
      },
      "outputs": [
        {
          "output_type": "stream",
          "name": "stdout",
          "text": [
            "+-------------------+--------------+---------------------------------------------------+\n",
            "|   alpha values(α) |   RMSE Score | Weight Parametrs / Model Coefficients             |\n",
            "+===================+==============+===================================================+\n",
            "|             0.001 |     0.13039  | [-0.00950295 -0.02977428  0.39215714  0.18661415] |\n",
            "+-------------------+--------------+---------------------------------------------------+\n",
            "|             0.002 |     0.13069  | [-0.00799019 -0.02885081  0.39109211  0.18558689] |\n",
            "+-------------------+--------------+---------------------------------------------------+\n",
            "|             0.005 |     0.131944 | [-0.00345192 -0.02608042  0.38789702  0.18250513] |\n",
            "+-------------------+--------------+---------------------------------------------------+\n",
            "|             0.008 |     0.133734 | [-0.         -0.02363824  0.38461385  0.17948288] |\n",
            "+-------------------+--------------+---------------------------------------------------+\n",
            "|             0.01  |     0.13519  | [-0.         -0.02269801  0.38224036  0.17759598] |\n",
            "+-------------------+--------------+---------------------------------------------------+\n",
            "|             0.02  |     0.144359 | [-0.         -0.01799966  0.37037205  0.16816074] |\n",
            "+-------------------+--------------+---------------------------------------------------+\n",
            "|             0.03  |     0.156251 | [-0.         -0.01330176  0.35850362  0.1587254 ] |\n",
            "+-------------------+--------------+---------------------------------------------------+\n",
            "|             0.04  |     0.170295 | [ 0.         -0.00860394  0.34663516  0.14929003] |\n",
            "+-------------------+--------------+---------------------------------------------------+\n",
            "|             0.05  |     0.186006 | [ 0.         -0.00390618  0.33476668  0.13985465] |\n",
            "+-------------------+--------------+---------------------------------------------------+\n",
            "|             0.08  |     0.234776 | [ 0.         -0.          0.29510447  0.10907032] |\n",
            "+-------------------+--------------+---------------------------------------------------+\n",
            "|             0.1   |     0.269966 | [ 0.         -0.          0.26762618  0.08791391] |\n",
            "+-------------------+--------------+---------------------------------------------------+\n",
            "|             0.2   |     0.461448 | [ 0.         -0.          0.12875856  0.        ] |\n",
            "+-------------------+--------------+---------------------------------------------------+\n",
            "|             0.4   |     0.631196 | [ 0. -0.  0.  0.]                                 |\n",
            "+-------------------+--------------+---------------------------------------------------+\n",
            "|             0.6   |     0.631196 | [ 0. -0.  0.  0.]                                 |\n",
            "+-------------------+--------------+---------------------------------------------------+\n",
            "|             0.8   |     0.631196 | [ 0. -0.  0.  0.]                                 |\n",
            "+-------------------+--------------+---------------------------------------------------+\n",
            "|             1     |     0.631196 | [ 0. -0.  0.  0.]                                 |\n",
            "+-------------------+--------------+---------------------------------------------------+\n"
          ]
        },
        {
          "output_type": "display_data",
          "data": {
            "image/png": "[encoded data removed]",
            "text/plain": [
              "<Figure size 432x288 with 1 Axes>"
            ]
          },
          "metadata": {
            "needs_background": "light"
          }
        }
      ],
      "source": [
        "# implement Lasso regression and make a table where you explore the effect of different values of `alpha`\n",
        "values1 = []\n",
        "header1 = [\"alpha values(α)\",\"RMSE Score\",\"Weight Parametrs / Model Coefficients\"]\n",
        "for value in alpha:\n",
        "  lasso = Lasso(value)\n",
        "  lasso.fit(x_train, y_train)\n",
        "  pred_test_lasso= lasso.predict(x_test)\n",
        "  rmse = np.sqrt(mean_squared_error(y_test,pred_test_lasso))\n",
        "  temp = [value,rmse,lasso.coef_]\n",
        "  values1.append(temp)\n",
        "print(tabulate(values1, header1, tablefmt=\"grid\"))\n",
        "plt.plot(alpha,[row[1] for row in values1])\n",
        "plt.plot(alpha,[row[1] for row in values1],'bo')\n",
        "plt.ylabel(\"Rsme Error\")\n",
        "plt.xlabel(\"α-value\")\n",
        "plt.show()"
      ]
    },
    {
      "cell_type": "markdown",
      "source": [
        "We can Observe the Difference Between the Ridge and Lasso for the same set of alpha values:\n",
        "-      In case of Lasso the wieght parameters are becoming Zero as the the α value increasing. \n",
        "-      For Higher α, in trying to find the minimum value for the cost function, the model will set the coefficients to 0. In other words, the regression line will have a slope of 0, so we have find the suitable α for the model.\n",
        "-      In the table Printed above the coefficients are becoming Zeros at higher alpha values."
      ],
      "metadata": {
        "id": "iUhxsVLax7h4"
      },
      "id": "iUhxsVLax7h4"
    }
  ],
  "metadata": {
    "kernelspec": {
      "display_name": "Python 3",
      "language": "python",
      "name": "python3"
    },
    "language_info": {
      "codemirror_mode": {
        "name": "ipython",
        "version": 3
      },
      "file_extension": ".py",
      "mimetype": "text/x-python",
      "name": "python",
      "nbconvert_exporter": "python",
      "pygments_lexer": "ipython3",
      "version": "3.8.5"
    },
    "colab": {
      "name": "2021201069_Assignment2_Q2.ipynb",
      "provenance": [],
      "collapsed_sections": []
    }
  },
  "nbformat": 4,
  "nbformat_minor": 5
}
