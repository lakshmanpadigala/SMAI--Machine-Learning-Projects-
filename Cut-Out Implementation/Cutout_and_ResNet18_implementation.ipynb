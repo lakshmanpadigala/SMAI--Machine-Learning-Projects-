{
  "nbformat": 4,
  "nbformat_minor": 0,
  "metadata": {
    "colab": {
      "name": "Cutout and ResNet18 implementation.ipynb",
      "provenance": [],
      "collapsed_sections": [],
      "include_colab_link": true
    },
    "kernelspec": {
      "name": "python3",
      "display_name": "Python 3"
    },
    "language_info": {
      "name": "python"
    },
    "accelerator": "GPU"
  },
  "cells": [
    {
      "cell_type": "markdown",
      "metadata": {
        "id": "view-in-github",
        "colab_type": "text"
      },
      "source": [
        "<a href=\"https://colab.research.google.com/github/lakshmanpadigala/SMAI_S22_5/blob/main/Cutout_and_ResNet18_implementation.ipynb\" target=\"_parent\"><img src=\"https://colab.research.google.com/assets/colab-badge.svg\" alt=\"Open In Colab\"/></a>"
      ]
    },
    {
      "cell_type": "code",
      "source": [
        "!pip install wget"
      ],
      "metadata": {
        "id": "0joDycx0fk97"
      },
      "execution_count": null,
      "outputs": []
    },
    {
      "cell_type": "code",
      "source": [
        "import numpy as np\n",
        "import torch\n",
        "import numpy as np\n",
        "import os\n",
        "from random import randrange\n",
        "from matplotlib import pyplot as plt\n",
        "from PIL import Image\n",
        "from tabulate import tabulate\n",
        "from sklearn import preprocessing\n",
        "import torch.nn as nn\n",
        "import wget\n",
        "import tarfile\n",
        "from scipy.io import loadmat"
      ],
      "metadata": {
        "id": "3NQHSPlF84F4"
      },
      "execution_count": null,
      "outputs": []
    },
    {
      "cell_type": "code",
      "source": [
        "# url = 'http://ufldl.stanford.edu/housenumbers/train_32x32.mat'\n",
        "# train_file = wget.download(url)"
      ],
      "metadata": {
        "id": "6dtfZCcPfPTm"
      },
      "execution_count": null,
      "outputs": []
    },
    {
      "cell_type": "code",
      "source": [
        "# url1 = 'http://ufldl.stanford.edu/housenumbers/test_32x32.mat'\n",
        "# test_file = wget.download(url1)"
      ],
      "metadata": {
        "id": "Vp_oUoTEf_YE"
      },
      "execution_count": null,
      "outputs": []
    },
    {
      "cell_type": "code",
      "source": [
        "# !mv /content/test_32x32.mat /content/drive/MyDrive/Colab\\ Notebooks/SMAI\\ Project"
      ],
      "metadata": {
        "id": "3BjJMcjegr7C"
      },
      "execution_count": null,
      "outputs": []
    },
    {
      "cell_type": "code",
      "source": [
        "# !mv /content/train_32x32.mat /content/drive/MyDrive/Colab\\ Notebooks/SMAI\\ Project"
      ],
      "metadata": {
        "id": "-rizWeMihSnx"
      },
      "execution_count": null,
      "outputs": []
    },
    {
      "cell_type": "code",
      "source": [
        "# train_file = tarfile.open('/content/drive/MyDrive/Colab Notebooks/SMAI Project/train.tar.gz')\n",
        "# test_file = tarfile.open('/content/drive/MyDrive/Colab Notebooks/SMAI Project/test.tar.gz')\n",
        "# train_file.extractall('/content/drive/MyDrive/Colab Notebooks/SMAI Project')\n",
        "# test_file.extractall('/content/drive/MyDrive/Colab Notebooks/SMAI Project')\n",
        "# train_file.close()\n",
        "# test_file.close()"
      ],
      "metadata": {
        "id": "gmJjjN5DhcBU"
      },
      "execution_count": null,
      "outputs": []
    },
    {
      "cell_type": "code",
      "source": [
        "train = loadmat('/content/drive/MyDrive/Colab Notebooks/SMAI Project/train_32x32.mat')"
      ],
      "metadata": {
        "id": "Icgp8lk0n0Ok"
      },
      "execution_count": null,
      "outputs": []
    },
    {
      "cell_type": "code",
      "source": [
        "train.keys()"
      ],
      "metadata": {
        "colab": {
          "base_uri": "https://localhost:8080/"
        },
        "id": "Uq9EqRhyoBaA",
        "outputId": "dee0a380-a9fb-44e9-afec-67127d837b99"
      },
      "execution_count": null,
      "outputs": [
        {
          "output_type": "execute_result",
          "data": {
            "text/plain": [
              "dict_keys(['__header__', '__version__', '__globals__', 'X', 'y'])"
            ]
          },
          "metadata": {},
          "execution_count": 4
        }
      ]
    },
    {
      "cell_type": "code",
      "source": [
        "train_x = train['X'].T\n",
        "train_y = train['y']\n",
        "train_x.shape , train_y.shape"
      ],
      "metadata": {
        "colab": {
          "base_uri": "https://localhost:8080/"
        },
        "id": "p0dMfIZ2ywxf",
        "outputId": "52ddcaa5-fa80-4255-ba57-e9023156e56f"
      },
      "execution_count": null,
      "outputs": [
        {
          "output_type": "execute_result",
          "data": {
            "text/plain": [
              "((73257, 3, 32, 32), (73257, 1))"
            ]
          },
          "metadata": {},
          "execution_count": 16
        }
      ]
    },
    {
      "cell_type": "code",
      "source": [
        "test = loadmat('/content/drive/MyDrive/Colab Notebooks/SMAI Project/test_32x32.mat')"
      ],
      "metadata": {
        "id": "cDC9AqjRy9Ou"
      },
      "execution_count": null,
      "outputs": []
    },
    {
      "cell_type": "code",
      "source": [
        "test_x = test['X'].T\n",
        "test_y = test['y']\n",
        "test_x.shape , test_y.shape"
      ],
      "metadata": {
        "colab": {
          "base_uri": "https://localhost:8080/"
        },
        "id": "FeDjahgOzE3F",
        "outputId": "6a180f77-1cc5-44ea-8a77-c3a46d21ac9d"
      },
      "execution_count": null,
      "outputs": [
        {
          "output_type": "execute_result",
          "data": {
            "text/plain": [
              "((26032, 3, 32, 32), (26032, 1))"
            ]
          },
          "metadata": {},
          "execution_count": 15
        }
      ]
    },
    {
      "cell_type": "code",
      "source": [
        "def cut_out(image,holes,patch_length):\n",
        "  image =  torch.from_numpy(image)\n",
        "  # print(\"Image shape\",image.shape)\n",
        "  height = image.shape[1]\n",
        "  width = image.shape[2]\n",
        "  for i in range(holes):\n",
        "    y = np.random.randint(height)\n",
        "    x = np.random.randint(width)\n",
        "    mask = np.ones((height, width), np.float32)\n",
        "    y1 = np.clip(y - patch_length // 2, 0, height)\n",
        "    y2 = np.clip(y + patch_length // 2, 0, height)\n",
        "    x1 = np.clip(x - patch_length // 2, 0, width)\n",
        "    x2 = np.clip(x + patch_length // 2, 0, width)\n",
        "\n",
        "    mask[y1: y2, x1: x2] = 0\n",
        "\n",
        "    mask = torch.from_numpy(mask)\n",
        "    mask = mask.expand_as(image)\n",
        "    image = image * mask\n",
        "\n",
        "  return image      "
      ],
      "metadata": {
        "id": "N-bkiki662lr"
      },
      "execution_count": null,
      "outputs": []
    },
    {
      "cell_type": "code",
      "source": [
        "train_x[0].shape"
      ],
      "metadata": {
        "colab": {
          "base_uri": "https://localhost:8080/"
        },
        "id": "EcE_sAuBGHxl",
        "outputId": "1006cb98-be65-4686-8901-1ee6ea3f4b8c"
      },
      "execution_count": null,
      "outputs": [
        {
          "output_type": "execute_result",
          "data": {
            "text/plain": [
              "(3, 32, 32)"
            ]
          },
          "metadata": {},
          "execution_count": 35
        }
      ]
    },
    {
      "cell_type": "code",
      "source": [
        "i1 = cut_out(train_x[0],1,8)\n",
        "print(i1.shape)"
      ],
      "metadata": {
        "colab": {
          "base_uri": "https://localhost:8080/"
        },
        "id": "lKHEpQ-GLac4",
        "outputId": "a36fed5e-a4f4-4845-f6e9-ed84a21a9a4d"
      },
      "execution_count": null,
      "outputs": [
        {
          "output_type": "stream",
          "name": "stdout",
          "text": [
            "torch.Size([3, 32, 32])\n"
          ]
        }
      ]
    },
    {
      "cell_type": "code",
      "source": [
        "train_x_8 = []\n",
        "for image in train_x:\n",
        "  train_x_8.append(cut_out(image,1,8))\n",
        "# train_x_8 = torch.cat(train_x_8)"
      ],
      "metadata": {
        "id": "rDWO8Z5R9y39"
      },
      "execution_count": null,
      "outputs": []
    },
    {
      "cell_type": "code",
      "source": [
        "test_x_8 = []\n",
        "for image in test_x:\n",
        "  test_x_8.append(cut_out(image,1,8))\n",
        "# test_x_8_8 = torch.cat(test_x_8)"
      ],
      "metadata": {
        "id": "JKDz8NEJKM_U"
      },
      "execution_count": null,
      "outputs": []
    },
    {
      "cell_type": "code",
      "source": [
        "train_x_8[0].shape"
      ],
      "metadata": {
        "colab": {
          "base_uri": "https://localhost:8080/"
        },
        "id": "mogVohEhHieC",
        "outputId": "21e7631e-758e-401b-dba3-9cbc0a253e49"
      },
      "execution_count": null,
      "outputs": [
        {
          "output_type": "execute_result",
          "data": {
            "text/plain": [
              "torch.Size([3, 32, 32])"
            ]
          },
          "metadata": {},
          "execution_count": 42
        }
      ]
    },
    {
      "cell_type": "code",
      "source": [
        "def display_images(imgs,row=1,col=2,w=32,h=32):\n",
        "    fig=plt.figure(figsize=(8, 8))\n",
        "    for i in range(1, col*row +1):\n",
        "      img = imgs[i-1].permute(1,2,0)\n",
        "      fig.add_subplot(row, col, i)\n",
        "      img = np.array(img)\n",
        "      img = img / 256\n",
        "      plt.imshow(img)\n",
        "      plt.axis('off')\n",
        "    plt.show()"
      ],
      "metadata": {
        "id": "b5BC9dfgHN8-"
      },
      "execution_count": null,
      "outputs": []
    },
    {
      "cell_type": "code",
      "source": [
        "display_images(train_x_8[:6],2,3)"
      ],
      "metadata": {
        "colab": {
          "base_uri": "https://localhost:8080/",
          "height": 399
        },
        "id": "IzpW3terMcK5",
        "outputId": "d86989fb-675d-4b3d-be93-a446c41da463"
      },
      "execution_count": null,
      "outputs": [
        {
          "output_type": "display_data",
          "data": {
            "text/plain": [
              "<Figure size 576x576 with 6 Axes>"
            ],
            "image/png": "[encoded data removed]"
          },
          "metadata": {
            "needs_background": "light"
          }
        }
      ]
    },
    {
      "cell_type": "code",
      "source": [
        "from tensorflow import keras\n",
        "from keras import layers\n",
        "from keras.layers import Input,Add,Dense,Activation,ZeroPadding2D,BatchNormalization,Flatten,Conv2D,AveragePooling2D,MaxPool2D\n",
        "from keras.models import Model,load_model\n",
        "from keras.initializers import glorot_uniform"
      ],
      "metadata": {
        "id": "JuJYmuTmgMa_"
      },
      "execution_count": null,
      "outputs": []
    },
    {
      "cell_type": "code",
      "source": [
        "def identity_connection(x,k,filters_size,s):\n",
        "  f1,f2 = filters_size\n",
        "\n",
        "  x_temp = x\n",
        "\n",
        "  x = Conv2D(filters = f1 , kernel_size = (k,k),strides = (s,s),padding = 'same')(x)\n",
        "  x = BatchNormalization(axis=3)(x)\n",
        "  x = Activation('relu')(x)\n",
        "\n",
        "  x = Conv2D(filters = f2 , kernel_size = (k,k),strides = (1,1),padding = 'same')(x)\n",
        "  x = BatchNormalization(axis=3)(x)\n",
        "\n",
        "  # x = Activation('relu')(x)\n",
        "\n",
        "  # x = Conv2D(filters = f3 , kernel_size = (k,k),strides = (1,1),padding = 'valid')(x)\n",
        "  # x = BatchNormalization(axis=3)(x)\n",
        "\n",
        "  if s!=1:\n",
        "    x_temp = Conv2D(filters = f2,kernel_size = (1,1),strides = (s,s),padding='valid')(x_temp)\n",
        "    x_temp = BatchNormalization(axis=3)(x_temp)\n",
        "\n",
        "  x = Add()([x,x_temp])\n",
        "  x = Activation('relu')(x)\n",
        "\n",
        "  return x\n"
      ],
      "metadata": {
        "id": "naFwXPMbTqLx"
      },
      "execution_count": null,
      "outputs": []
    },
    {
      "cell_type": "code",
      "source": [
        "def ResNet18(input_shape = (32,32,3),classes = 10):\n",
        "  x_input = Input(input_shape)\n",
        "  x = ZeroPadding2D((3,3))(x_input)\n",
        "\n",
        "  x = Conv2D(64,(7,7),strides = (2,2))(x)\n",
        "  x = BatchNormalization(axis=3)(x)\n",
        "  x = Activation('relu')(x)\n",
        "  x = MaxPool2D((3,3),strides=(2,2),padding = 'same')(x)\n",
        "\n",
        "  x = identity_connection(x,k=3,filters_size=[64,64],s=1)\n",
        "  x = identity_connection(x,k=3,filters_size=[64,64],s=1)\n",
        "  x = identity_connection(x,k=3,filters_size=[128,128],s=2)\n",
        "  x = identity_connection(x,k=3,filters_size=[128,128],s=1)\n",
        "  x = identity_connection(x,k=3,filters_size=[256,256],s=2)\n",
        "  x = identity_connection(x,k=3,filters_size=[256,256],s=1)\n",
        "  x = identity_connection(x,k=3,filters_size=[512,512],s=2)\n",
        "  x = identity_connection(x,k=3,filters_size=[512,512],s=1)\n",
        "\n",
        "  # x = AveragePooling2D((7,7),name = 'avg_pool')(x)\n",
        "\n",
        "  x = Flatten()(x)\n",
        "\n",
        "  x = Dense(classes,activation=\"softmax\",kernel_initializer = glorot_uniform(seed=0))(x)\n",
        "\n",
        "  model = Model(inputs = x_input,outputs = x,name = 'ResNet18')\n",
        "\n",
        "  return model"
      ],
      "metadata": {
        "id": "bCZSbVrMb_li"
      },
      "execution_count": null,
      "outputs": []
    },
    {
      "cell_type": "code",
      "source": [
        "model = ResNet18(input_shape = (32,32,3),classes = 10)"
      ],
      "metadata": {
        "id": "YgGcogFdhIS-"
      },
      "execution_count": null,
      "outputs": []
    },
    {
      "cell_type": "code",
      "source": [
        "model.summary()"
      ],
      "metadata": {
        "colab": {
          "base_uri": "https://localhost:8080/"
        },
        "id": "KQukxR0wjjrr",
        "outputId": "5d114bc2-8a7b-48e3-98c5-d54d6a43d5cc"
      },
      "execution_count": null,
      "outputs": [
        {
          "output_type": "stream",
          "name": "stdout",
          "text": [
            "Model: \"ResNet18\"\n",
            "__________________________________________________________________________________________________\n",
            " Layer (type)                   Output Shape         Param #     Connected to                     \n",
            "==================================================================================================\n",
            " input_2 (InputLayer)           [(None, 32, 32, 3)]  0           []                               \n",
            "                                                                                                  \n",
            " zero_padding2d_1 (ZeroPadding2  (None, 38, 38, 3)   0           ['input_2[0][0]']                \n",
            " D)                                                                                               \n",
            "                                                                                                  \n",
            " conv2d_20 (Conv2D)             (None, 16, 16, 64)   9472        ['zero_padding2d_1[0][0]']       \n",
            "                                                                                                  \n",
            " batch_normalization_20 (BatchN  (None, 16, 16, 64)  256         ['conv2d_20[0][0]']              \n",
            " ormalization)                                                                                    \n",
            "                                                                                                  \n",
            " activation_17 (Activation)     (None, 16, 16, 64)   0           ['batch_normalization_20[0][0]'] \n",
            "                                                                                                  \n",
            " max_pooling2d_1 (MaxPooling2D)  (None, 8, 8, 64)    0           ['activation_17[0][0]']          \n",
            "                                                                                                  \n",
            " conv2d_21 (Conv2D)             (None, 8, 8, 64)     36928       ['max_pooling2d_1[0][0]']        \n",
            "                                                                                                  \n",
            " batch_normalization_21 (BatchN  (None, 8, 8, 64)    256         ['conv2d_21[0][0]']              \n",
            " ormalization)                                                                                    \n",
            "                                                                                                  \n",
            " activation_18 (Activation)     (None, 8, 8, 64)     0           ['batch_normalization_21[0][0]'] \n",
            "                                                                                                  \n",
            " conv2d_22 (Conv2D)             (None, 8, 8, 64)     36928       ['activation_18[0][0]']          \n",
            "                                                                                                  \n",
            " batch_normalization_22 (BatchN  (None, 8, 8, 64)    256         ['conv2d_22[0][0]']              \n",
            " ormalization)                                                                                    \n",
            "                                                                                                  \n",
            " add_8 (Add)                    (None, 8, 8, 64)     0           ['batch_normalization_22[0][0]', \n",
            "                                                                  'max_pooling2d_1[0][0]']        \n",
            "                                                                                                  \n",
            " activation_19 (Activation)     (None, 8, 8, 64)     0           ['add_8[0][0]']                  \n",
            "                                                                                                  \n",
            " conv2d_23 (Conv2D)             (None, 8, 8, 64)     36928       ['activation_19[0][0]']          \n",
            "                                                                                                  \n",
            " batch_normalization_23 (BatchN  (None, 8, 8, 64)    256         ['conv2d_23[0][0]']              \n",
            " ormalization)                                                                                    \n",
            "                                                                                                  \n",
            " activation_20 (Activation)     (None, 8, 8, 64)     0           ['batch_normalization_23[0][0]'] \n",
            "                                                                                                  \n",
            " conv2d_24 (Conv2D)             (None, 8, 8, 64)     36928       ['activation_20[0][0]']          \n",
            "                                                                                                  \n",
            " batch_normalization_24 (BatchN  (None, 8, 8, 64)    256         ['conv2d_24[0][0]']              \n",
            " ormalization)                                                                                    \n",
            "                                                                                                  \n",
            " add_9 (Add)                    (None, 8, 8, 64)     0           ['batch_normalization_24[0][0]', \n",
            "                                                                  'activation_19[0][0]']          \n",
            "                                                                                                  \n",
            " activation_21 (Activation)     (None, 8, 8, 64)     0           ['add_9[0][0]']                  \n",
            "                                                                                                  \n",
            " conv2d_25 (Conv2D)             (None, 4, 4, 128)    73856       ['activation_21[0][0]']          \n",
            "                                                                                                  \n",
            " batch_normalization_25 (BatchN  (None, 4, 4, 128)   512         ['conv2d_25[0][0]']              \n",
            " ormalization)                                                                                    \n",
            "                                                                                                  \n",
            " activation_22 (Activation)     (None, 4, 4, 128)    0           ['batch_normalization_25[0][0]'] \n",
            "                                                                                                  \n",
            " conv2d_26 (Conv2D)             (None, 4, 4, 128)    147584      ['activation_22[0][0]']          \n",
            "                                                                                                  \n",
            " conv2d_27 (Conv2D)             (None, 4, 4, 128)    8320        ['activation_21[0][0]']          \n",
            "                                                                                                  \n",
            " batch_normalization_26 (BatchN  (None, 4, 4, 128)   512         ['conv2d_26[0][0]']              \n",
            " ormalization)                                                                                    \n",
            "                                                                                                  \n",
            " batch_normalization_27 (BatchN  (None, 4, 4, 128)   512         ['conv2d_27[0][0]']              \n",
            " ormalization)                                                                                    \n",
            "                                                                                                  \n",
            " add_10 (Add)                   (None, 4, 4, 128)    0           ['batch_normalization_26[0][0]', \n",
            "                                                                  'batch_normalization_27[0][0]'] \n",
            "                                                                                                  \n",
            " activation_23 (Activation)     (None, 4, 4, 128)    0           ['add_10[0][0]']                 \n",
            "                                                                                                  \n",
            " conv2d_28 (Conv2D)             (None, 4, 4, 128)    147584      ['activation_23[0][0]']          \n",
            "                                                                                                  \n",
            " batch_normalization_28 (BatchN  (None, 4, 4, 128)   512         ['conv2d_28[0][0]']              \n",
            " ormalization)                                                                                    \n",
            "                                                                                                  \n",
            " activation_24 (Activation)     (None, 4, 4, 128)    0           ['batch_normalization_28[0][0]'] \n",
            "                                                                                                  \n",
            " conv2d_29 (Conv2D)             (None, 4, 4, 128)    147584      ['activation_24[0][0]']          \n",
            "                                                                                                  \n",
            " batch_normalization_29 (BatchN  (None, 4, 4, 128)   512         ['conv2d_29[0][0]']              \n",
            " ormalization)                                                                                    \n",
            "                                                                                                  \n",
            " add_11 (Add)                   (None, 4, 4, 128)    0           ['batch_normalization_29[0][0]', \n",
            "                                                                  'activation_23[0][0]']          \n",
            "                                                                                                  \n",
            " activation_25 (Activation)     (None, 4, 4, 128)    0           ['add_11[0][0]']                 \n",
            "                                                                                                  \n",
            " conv2d_30 (Conv2D)             (None, 2, 2, 256)    295168      ['activation_25[0][0]']          \n",
            "                                                                                                  \n",
            " batch_normalization_30 (BatchN  (None, 2, 2, 256)   1024        ['conv2d_30[0][0]']              \n",
            " ormalization)                                                                                    \n",
            "                                                                                                  \n",
            " activation_26 (Activation)     (None, 2, 2, 256)    0           ['batch_normalization_30[0][0]'] \n",
            "                                                                                                  \n",
            " conv2d_31 (Conv2D)             (None, 2, 2, 256)    590080      ['activation_26[0][0]']          \n",
            "                                                                                                  \n",
            " conv2d_32 (Conv2D)             (None, 2, 2, 256)    33024       ['activation_25[0][0]']          \n",
            "                                                                                                  \n",
            " batch_normalization_31 (BatchN  (None, 2, 2, 256)   1024        ['conv2d_31[0][0]']              \n",
            " ormalization)                                                                                    \n",
            "                                                                                                  \n",
            " batch_normalization_32 (BatchN  (None, 2, 2, 256)   1024        ['conv2d_32[0][0]']              \n",
            " ormalization)                                                                                    \n",
            "                                                                                                  \n",
            " add_12 (Add)                   (None, 2, 2, 256)    0           ['batch_normalization_31[0][0]', \n",
            "                                                                  'batch_normalization_32[0][0]'] \n",
            "                                                                                                  \n",
            " activation_27 (Activation)     (None, 2, 2, 256)    0           ['add_12[0][0]']                 \n",
            "                                                                                                  \n",
            " conv2d_33 (Conv2D)             (None, 2, 2, 256)    590080      ['activation_27[0][0]']          \n",
            "                                                                                                  \n",
            " batch_normalization_33 (BatchN  (None, 2, 2, 256)   1024        ['conv2d_33[0][0]']              \n",
            " ormalization)                                                                                    \n",
            "                                                                                                  \n",
            " activation_28 (Activation)     (None, 2, 2, 256)    0           ['batch_normalization_33[0][0]'] \n",
            "                                                                                                  \n",
            " conv2d_34 (Conv2D)             (None, 2, 2, 256)    590080      ['activation_28[0][0]']          \n",
            "                                                                                                  \n",
            " batch_normalization_34 (BatchN  (None, 2, 2, 256)   1024        ['conv2d_34[0][0]']              \n",
            " ormalization)                                                                                    \n",
            "                                                                                                  \n",
            " add_13 (Add)                   (None, 2, 2, 256)    0           ['batch_normalization_34[0][0]', \n",
            "                                                                  'activation_27[0][0]']          \n",
            "                                                                                                  \n",
            " activation_29 (Activation)     (None, 2, 2, 256)    0           ['add_13[0][0]']                 \n",
            "                                                                                                  \n",
            " conv2d_35 (Conv2D)             (None, 1, 1, 512)    1180160     ['activation_29[0][0]']          \n",
            "                                                                                                  \n",
            " batch_normalization_35 (BatchN  (None, 1, 1, 512)   2048        ['conv2d_35[0][0]']              \n",
            " ormalization)                                                                                    \n",
            "                                                                                                  \n",
            " activation_30 (Activation)     (None, 1, 1, 512)    0           ['batch_normalization_35[0][0]'] \n",
            "                                                                                                  \n",
            " conv2d_36 (Conv2D)             (None, 1, 1, 512)    2359808     ['activation_30[0][0]']          \n",
            "                                                                                                  \n",
            " conv2d_37 (Conv2D)             (None, 1, 1, 512)    131584      ['activation_29[0][0]']          \n",
            "                                                                                                  \n",
            " batch_normalization_36 (BatchN  (None, 1, 1, 512)   2048        ['conv2d_36[0][0]']              \n",
            " ormalization)                                                                                    \n",
            "                                                                                                  \n",
            " batch_normalization_37 (BatchN  (None, 1, 1, 512)   2048        ['conv2d_37[0][0]']              \n",
            " ormalization)                                                                                    \n",
            "                                                                                                  \n",
            " add_14 (Add)                   (None, 1, 1, 512)    0           ['batch_normalization_36[0][0]', \n",
            "                                                                  'batch_normalization_37[0][0]'] \n",
            "                                                                                                  \n",
            " activation_31 (Activation)     (None, 1, 1, 512)    0           ['add_14[0][0]']                 \n",
            "                                                                                                  \n",
            " conv2d_38 (Conv2D)             (None, 1, 1, 512)    2359808     ['activation_31[0][0]']          \n",
            "                                                                                                  \n",
            " batch_normalization_38 (BatchN  (None, 1, 1, 512)   2048        ['conv2d_38[0][0]']              \n",
            " ormalization)                                                                                    \n",
            "                                                                                                  \n",
            " activation_32 (Activation)     (None, 1, 1, 512)    0           ['batch_normalization_38[0][0]'] \n",
            "                                                                                                  \n",
            " conv2d_39 (Conv2D)             (None, 1, 1, 512)    2359808     ['activation_32[0][0]']          \n",
            "                                                                                                  \n",
            " batch_normalization_39 (BatchN  (None, 1, 1, 512)   2048        ['conv2d_39[0][0]']              \n",
            " ormalization)                                                                                    \n",
            "                                                                                                  \n",
            " add_15 (Add)                   (None, 1, 1, 512)    0           ['batch_normalization_39[0][0]', \n",
            "                                                                  'activation_31[0][0]']          \n",
            "                                                                                                  \n",
            " activation_33 (Activation)     (None, 1, 1, 512)    0           ['add_15[0][0]']                 \n",
            "                                                                                                  \n",
            " flatten (Flatten)              (None, 512)          0           ['activation_33[0][0]']          \n",
            "                                                                                                  \n",
            " dense_1 (Dense)                (None, 10)           5130        ['flatten[0][0]']                \n",
            "                                                                                                  \n",
            "==================================================================================================\n",
            "Total params: 11,196,042\n",
            "Trainable params: 11,186,442\n",
            "Non-trainable params: 9,600\n",
            "__________________________________________________________________________________________________\n"
          ]
        }
      ]
    },
    {
      "cell_type": "code",
      "source": [
        "opt = keras.optimizers.Adam(learning_rate=0.01)\n",
        "model.compile(loss='categorical_crossentropy', optimizer=opt,metrics = ['accuracy'])"
      ],
      "metadata": {
        "id": "_CS1ZZLRhVFd"
      },
      "execution_count": null,
      "outputs": []
    }
  ]
}