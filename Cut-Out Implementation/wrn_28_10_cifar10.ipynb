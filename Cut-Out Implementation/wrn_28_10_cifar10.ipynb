{
  "metadata": {
    "kernelspec": {
      "language": "python",
      "display_name": "Python 3",
      "name": "python3"
    },
    "language_info": {
      "name": "python",
      "version": "3.7.12",
      "mimetype": "text/x-python",
      "codemirror_mode": {
        "name": "ipython",
        "version": 3
      },
      "pygments_lexer": "ipython3",
      "nbconvert_exporter": "python",
      "file_extension": ".py"
    },
    "colab": {
      "name": "wrn-28-10-cifar10.ipynb",
      "provenance": [],
      "include_colab_link": true
    }
  },
  "nbformat_minor": 0,
  "nbformat": 4,
  "cells": [
    {
      "cell_type": "markdown",
      "metadata": {
        "id": "view-in-github",
        "colab_type": "text"
      },
      "source": [
        "<a href=\"https://colab.research.google.com/github/lakshmanpadigala/SMAI_S22_5/blob/main/wrn_28_10_cifar10.ipynb\" target=\"_parent\"><img src=\"https://colab.research.google.com/assets/colab-badge.svg\" alt=\"Open In Colab\"/></a>"
      ]
    },
    {
      "cell_type": "code",
      "source": [
        "import pdb\n",
        "import argparse\n",
        "import numpy as np\n",
        "from tqdm import tqdm\n",
        "import torch\n",
        "import torch.nn as nn\n",
        "import torch.nn.functional as F\n",
        "import random\n",
        "from torch.autograd import Variable\n",
        "import torch.backends.cudnn as cudnn\n",
        "from torch.optim.lr_scheduler import MultiStepLR\n",
        "from torchvision.utils import make_grid\n",
        "from torchvision import datasets, transforms"
      ],
      "metadata": {
        "id": "6VHYI7zhSJJb",
        "execution": {
          "iopub.status.busy": "2022-05-01T08:21:52.513476Z",
          "iopub.execute_input": "2022-05-01T08:21:52.514019Z",
          "iopub.status.idle": "2022-05-01T08:21:52.683992Z",
          "shell.execute_reply.started": "2022-05-01T08:21:52.513980Z",
          "shell.execute_reply": "2022-05-01T08:21:52.683274Z"
        },
        "trusted": true
      },
      "execution_count": null,
      "outputs": []
    },
    {
      "cell_type": "markdown",
      "source": [
        "####Util Functions"
      ],
      "metadata": {
        "id": "M6dTe_QoaRkN"
      }
    },
    {
      "cell_type": "code",
      "source": [
        "class RandomErasing(object):\n",
        "\n",
        "    def __init__(self, EPSILON = 0.5, sl = 0.02, sh = 0.4, r1 = 0.3, mean=[0.4914, 0.4822, 0.4465]):\n",
        "        self.EPSILON = EPSILON\n",
        "        self.mean = mean\n",
        "        self.sl = sl\n",
        "        self.sh = sh\n",
        "        self.r1 = r1\n",
        "       \n",
        "    def __call__(self, img):\n",
        "\n",
        "        if random.uniform(0, 1) > self.EPSILON:\n",
        "            return img\n",
        "\n",
        "        for attempt in range(100):\n",
        "            area = img.size()[1] * img.size()[2]\n",
        "       \n",
        "            target_area = random.uniform(self.sl, self.sh) * area\n",
        "            aspect_ratio = random.uniform(self.r1, 1/self.r1)\n",
        "\n",
        "            h = int(round(math.sqrt(target_area * aspect_ratio)))\n",
        "            w = int(round(math.sqrt(target_area / aspect_ratio)))\n",
        "\n",
        "            if w < img.size()[2] and h < img.size()[1]:\n",
        "                x1 = random.randint(0, img.size()[1] - h)\n",
        "                y1 = random.randint(0, img.size()[2] - w)\n",
        "                if img.size()[0] == 3:\n",
        "                    img[0, x1:x1+h, y1:y1+w] = random.uniform(0, 1)\n",
        "                    img[1, x1:x1+h, y1:y1+w] = random.uniform(0, 1)\n",
        "                    img[2, x1:x1+h, y1:y1+w] = random.uniform(0, 1)\n",
        "                    # img[0, x1:x1+h, y1:y1+w] = self.mean[0]\n",
        "                    # img[1, x1:x1+h, y1:y1+w] = self.mean[1]\n",
        "                    # img[2, x1:x1+h, y1:y1+w] = self.mean[2]\n",
        "                    #img[:, x1:x1+h, y1:y1+w] = torch.from_numpy(np.random.rand(3, h, w))\n",
        "                else:\n",
        "                    # img[0, x1:x1+h, y1:y1+w] = self.mean[1]\n",
        "                    img[0, x1:x1+h, y1:y1+w] = torch.from_numpy(np.random.rand(1, h, w))\n",
        "                return img\n",
        "\n",
        "        return img"
      ],
      "metadata": {
        "id": "chXLMX4gSKzx",
        "execution": {
          "iopub.status.busy": "2022-05-01T08:21:56.148503Z",
          "iopub.execute_input": "2022-05-01T08:21:56.148760Z",
          "iopub.status.idle": "2022-05-01T08:21:56.169576Z",
          "shell.execute_reply.started": "2022-05-01T08:21:56.148732Z",
          "shell.execute_reply": "2022-05-01T08:21:56.168853Z"
        },
        "trusted": true
      },
      "execution_count": null,
      "outputs": []
    },
    {
      "cell_type": "code",
      "source": [
        "class BasicBlock(nn.Module):\n",
        "    def __init__(self, in_planes, out_planes, stride, dropRate=0.0):\n",
        "        super(BasicBlock, self).__init__()\n",
        "        self.bn1 = nn.BatchNorm2d(in_planes)\n",
        "        self.relu1 = nn.ReLU(inplace=True)\n",
        "        self.conv1 = nn.Conv2d(in_planes, out_planes, kernel_size=3, stride=stride,padding=1, bias=False)\n",
        "        self.bn2 = nn.BatchNorm2d(out_planes)\n",
        "        self.relu2 = nn.ReLU(inplace=True)\n",
        "        self.conv2 = nn.Conv2d(out_planes, out_planes, kernel_size=3, stride=1,padding=1, bias=False)\n",
        "        self.droprate = dropRate\n",
        "        self.equalInOut = (in_planes == out_planes)\n",
        "        self.convShortcut = (not self.equalInOut) and nn.Conv2d(in_planes, out_planes, kernel_size=1, stride=stride,padding=0, bias=False) or None\n",
        "    def forward(self, x):\n",
        "        if not self.equalInOut:\n",
        "            x = self.relu1(self.bn1(x))\n",
        "        else:\n",
        "            out = self.relu1(self.bn1(x))\n",
        "        out = self.relu2(self.bn2(self.conv1(out if self.equalInOut else x)))\n",
        "        if self.droprate > 0:\n",
        "            out = F.dropout(out, p=self.droprate, training=self.training)\n",
        "        out = self.conv2(out)\n",
        "        return torch.add(x if self.equalInOut else self.convShortcut(x), out)\n",
        "\n",
        "class NetworkBlock(nn.Module):\n",
        "    def __init__(self, nb_layers, in_planes, out_planes, block, stride, dropRate=0.0):\n",
        "        super(NetworkBlock, self).__init__()\n",
        "        self.layer = self._make_layer(block, in_planes, out_planes, nb_layers, stride, dropRate)\n",
        "    def _make_layer(self, block, in_planes, out_planes, nb_layers, stride, dropRate):\n",
        "        layers = []\n",
        "        # print(\"Nb_layers:\",nb_layers)\n",
        "        for i in range(int(nb_layers)):\n",
        "            # print(\" i:\",i,\" in_planes:\",in_planes,\" out_planes:\",out_planes,\" stride:\",stride , \" dropRate:\",dropRate)\n",
        "            layers.append(block(i == 0 and in_planes or out_planes, out_planes, i == 0 and stride or 1, dropRate))\n",
        "        return nn.Sequential(*layers)\n",
        "    def forward(self, x):\n",
        "        return self.layer(x)\n",
        "\n",
        "class WideResNet(nn.Module):\n",
        "    def __init__(self, depth, num_classes, widen_factor=1, dropRate=0.0):\n",
        "        super(WideResNet, self).__init__()\n",
        "        nChannels = [16, 16*widen_factor, 32*widen_factor, 64*widen_factor]\n",
        "        assert((depth - 4) % 6 == 0)\n",
        "        n = (depth - 4) / 6\n",
        "        block = BasicBlock\n",
        "        # print(\"Block Type:\" , type(block))\n",
        "        # 1st conv before any network block\n",
        "        self.conv1 = nn.Conv2d(3, nChannels[0], kernel_size=3, stride=1,padding=1, bias=False)\n",
        "        # 1st block\n",
        "        self.block1 = NetworkBlock(n, nChannels[0], nChannels[1], block, 1, dropRate)\n",
        "        # 2nd block\n",
        "        self.block2 = NetworkBlock(n, nChannels[1], nChannels[2], block, 2, dropRate)\n",
        "        # 3rd block\n",
        "        self.block3 = NetworkBlock(n, nChannels[2], nChannels[3], block, 2, dropRate)\n",
        "        # global average pooling and classifier\n",
        "        self.bn1 = nn.BatchNorm2d(nChannels[3])\n",
        "        self.relu = nn.ReLU(inplace=True)\n",
        "        self.fc = nn.Linear(nChannels[3], num_classes)\n",
        "        self.nChannels = nChannels[3]\n",
        "\n",
        "        for m in self.modules():\n",
        "            if isinstance(m, nn.Conv2d):\n",
        "                n = m.kernel_size[0] * m.kernel_size[1] * m.out_channels\n",
        "                m.weight.data.normal_(0, math.sqrt(2. / n))\n",
        "            elif isinstance(m, nn.BatchNorm2d):\n",
        "                m.weight.data.fill_(1)\n",
        "                m.bias.data.zero_()\n",
        "            elif isinstance(m, nn.Linear):\n",
        "                m.bias.data.zero_()\n",
        "    def forward(self, x):\n",
        "        out = self.conv1(x)\n",
        "        out = self.block1(out)\n",
        "        out = self.block2(out)\n",
        "        out = self.block3(out)\n",
        "        out = self.relu(self.bn1(out))\n",
        "\n",
        "        out = F.avg_pool2d(out, 8)\n",
        "        out = out.view(-1, self.nChannels)\n",
        "        out = self.fc(out)\n",
        "        return out"
      ],
      "metadata": {
        "id": "dB6p1DAEZM5a",
        "execution": {
          "iopub.status.busy": "2022-05-01T08:21:56.899830Z",
          "iopub.execute_input": "2022-05-01T08:21:56.900247Z",
          "iopub.status.idle": "2022-05-01T08:21:56.922544Z",
          "shell.execute_reply.started": "2022-05-01T08:21:56.900213Z",
          "shell.execute_reply": "2022-05-01T08:21:56.921776Z"
        },
        "trusted": true
      },
      "execution_count": null,
      "outputs": []
    },
    {
      "cell_type": "markdown",
      "source": [
        "###Training..!"
      ],
      "metadata": {
        "id": "Hy9r7K-_aaDv"
      }
    },
    {
      "cell_type": "code",
      "source": [
        "normalize = transforms.Normalize(mean=[x / 255.0 for x in [0.4914,0.4822,0.4465] ],std=[x / 255.0 for x in [0.2023,0.1994,0.2010] ])\n",
        "train_transform = transforms.Compose([])\n",
        "train_transform.transforms.append(transforms.ToTensor())\n",
        "train_transform.transforms.append(normalize)\n",
        "train_transform.transforms.append(RandomErasing())\n",
        "test_transform = transforms.Compose([transforms.ToTensor(),normalize])"
      ],
      "metadata": {
        "id": "I7zw086EZXVf",
        "execution": {
          "iopub.status.busy": "2022-05-01T08:22:04.117385Z",
          "iopub.execute_input": "2022-05-01T08:22:04.117642Z",
          "iopub.status.idle": "2022-05-01T08:22:04.123692Z",
          "shell.execute_reply.started": "2022-05-01T08:22:04.117613Z",
          "shell.execute_reply": "2022-05-01T08:22:04.122774Z"
        },
        "trusted": true
      },
      "execution_count": null,
      "outputs": []
    },
    {
      "cell_type": "code",
      "source": [
        "num_classes = 10\n",
        "train_dataset = datasets.CIFAR10(root='data/',train=True,transform=train_transform,download=True)\n",
        "test_dataset = datasets.CIFAR10(root='data/',train=False,transform=test_transform,download=True)\n"
      ],
      "metadata": {
        "execution": {
          "iopub.status.busy": "2022-05-01T08:22:05.717687Z",
          "iopub.execute_input": "2022-05-01T08:22:05.718538Z",
          "iopub.status.idle": "2022-05-01T08:22:12.912068Z",
          "shell.execute_reply.started": "2022-05-01T08:22:05.718497Z",
          "shell.execute_reply": "2022-05-01T08:22:12.911318Z"
        },
        "trusted": true,
        "id": "xoxLYw--GIig"
      },
      "execution_count": null,
      "outputs": []
    },
    {
      "cell_type": "code",
      "source": [
        "train_loader = torch.utils.data.DataLoader(dataset=train_dataset,batch_size=28,shuffle=True,pin_memory=True,num_workers=4)\n",
        "test_loader = torch.utils.data.DataLoader(dataset=test_dataset,batch_size=100,shuffle=False,pin_memory=True,num_workers=4)"
      ],
      "metadata": {
        "id": "BenBZ1o7bzL8",
        "execution": {
          "iopub.status.busy": "2022-05-01T08:22:17.356242Z",
          "iopub.execute_input": "2022-05-01T08:22:17.356551Z",
          "iopub.status.idle": "2022-05-01T08:22:17.365951Z",
          "shell.execute_reply.started": "2022-05-01T08:22:17.356518Z",
          "shell.execute_reply": "2022-05-01T08:22:17.365183Z"
        },
        "trusted": true
      },
      "execution_count": null,
      "outputs": []
    },
    {
      "cell_type": "code",
      "source": [
        "train_dataset.data.shape , test_dataset.data.shape"
      ],
      "metadata": {
        "id": "53n0JATTcZTv",
        "execution": {
          "iopub.status.busy": "2022-05-01T08:22:19.726277Z",
          "iopub.execute_input": "2022-05-01T08:22:19.726525Z",
          "iopub.status.idle": "2022-05-01T08:22:19.733677Z",
          "shell.execute_reply.started": "2022-05-01T08:22:19.726497Z",
          "shell.execute_reply": "2022-05-01T08:22:19.732799Z"
        },
        "trusted": true
      },
      "execution_count": null,
      "outputs": []
    },
    {
      "cell_type": "code",
      "source": [
        "cnn = ResNet18(num_classes=num_classes)\n",
        "cnn = cnn.cuda()\n",
        "criterion = nn.CrossEntropyLoss().cuda()\n",
        "cnn_optimizer = torch.optim.SGD(cnn.parameters(), lr=0.1,momentum=0.9, nesterov=True, weight_decay=5e-4)\n",
        "scheduler = MultiStepLR(cnn_optimizer, milestones=[150,225], gamma=0.1)"
      ],
      "metadata": {
        "id": "kwFfOiBrcule",
        "execution": {
          "iopub.status.busy": "2022-05-01T08:27:15.670314Z",
          "iopub.execute_input": "2022-05-01T08:27:15.670593Z",
          "iopub.status.idle": "2022-05-01T08:27:16.292690Z",
          "shell.execute_reply.started": "2022-05-01T08:27:15.670558Z",
          "shell.execute_reply": "2022-05-01T08:27:16.291935Z"
        },
        "trusted": true
      },
      "execution_count": null,
      "outputs": []
    },
    {
      "cell_type": "code",
      "source": [
        "def test(loader):\n",
        "    cnn.eval()    # Change model to 'eval' mode (BN uses moving mean/var).\n",
        "    correct = 0.\n",
        "    total = 0.\n",
        "    for images, labels in loader:\n",
        "        images = images.cuda()\n",
        "        labels = labels.cuda()\n",
        "\n",
        "        with torch.no_grad():\n",
        "            pred = cnn(images)\n",
        "\n",
        "        pred = torch.max(pred.data, 1)[1]\n",
        "        total += labels.size(0)\n",
        "        correct += (pred == labels).sum().item()\n",
        "\n",
        "    val_acc = correct / total\n",
        "    cnn.train()\n",
        "    return val_acc"
      ],
      "metadata": {
        "id": "5c73BbSCcwH8",
        "execution": {
          "iopub.status.busy": "2022-05-01T08:25:15.323064Z",
          "iopub.execute_input": "2022-05-01T08:25:15.323311Z",
          "iopub.status.idle": "2022-05-01T08:25:15.329564Z",
          "shell.execute_reply.started": "2022-05-01T08:25:15.323284Z",
          "shell.execute_reply": "2022-05-01T08:25:15.328653Z"
        },
        "trusted": true
      },
      "execution_count": null,
      "outputs": []
    },
    {
      "cell_type": "code",
      "source": [
        "for epoch in range(10):\n",
        "\n",
        "    xentropy_loss_avg = 0.\n",
        "    correct = 0.\n",
        "    total = 0.\n",
        "\n",
        "    progress_bar = tqdm(train_loader)\n",
        "    for i, (images, labels) in enumerate(progress_bar):\n",
        "        progress_bar.set_description('Epoch ' + str(epoch))\n",
        "\n",
        "        images = images.cuda()\n",
        "        labels = labels.cuda()\n",
        "\n",
        "        cnn.zero_grad()\n",
        "        pred = cnn(images)\n",
        "\n",
        "        xentropy_loss = criterion(pred, labels)\n",
        "        xentropy_loss.backward()\n",
        "        cnn_optimizer.step()\n",
        "\n",
        "        xentropy_loss_avg += xentropy_loss.item()\n",
        "\n",
        "        # Calculate running average of accuracy\n",
        "        pred = torch.max(pred.data, 1)[1]\n",
        "        total += labels.size(0)\n",
        "        correct += (pred == labels.data).sum().item()\n",
        "        accuracy = correct / total\n",
        "\n",
        "        progress_bar.set_postfix(\n",
        "            xentropy='%.4f' % (xentropy_loss_avg / (i + 1)),\n",
        "            acc='%.4f' % accuracy)\n",
        "\n",
        "    test_acc = test(test_loader)\n",
        "    tqdm.write('test_acc: %.4f' % (test_acc))\n",
        "\n",
        "    # scheduler.step(epoch)  # Use this line for PyTorch <1.4\n",
        "    scheduler.step()     # Use this line for PyTorch >=1.4\n",
        "\n",
        "    row = {'epoch': str(epoch), 'train_acc': str(accuracy), 'test_acc': str(test_acc)}\n",
        "    if(epoch % 40 == 0):\n",
        "      torch.save(cnn.state_dict(), \"/kaggle/working/svhn_wrn_28_10\" + str(epoch) +\".pt\")\n",
        "torch.save(cnn.state_dict(), \"/kaggle/working/svhn_wrn_28_10\" + str(epoch) +\".pt\")"
      ],
      "metadata": {
        "id": "tKgheUG4cw61",
        "execution": {
          "iopub.status.busy": "2022-05-01T08:27:19.836347Z",
          "iopub.execute_input": "2022-05-01T08:27:19.839015Z",
          "iopub.status.idle": "2022-05-01T09:22:46.237911Z",
          "shell.execute_reply.started": "2022-05-01T08:27:19.838959Z",
          "shell.execute_reply": "2022-05-01T09:22:46.236958Z"
        },
        "trusted": true
      },
      "execution_count": null,
      "outputs": []
    }
  ]
}