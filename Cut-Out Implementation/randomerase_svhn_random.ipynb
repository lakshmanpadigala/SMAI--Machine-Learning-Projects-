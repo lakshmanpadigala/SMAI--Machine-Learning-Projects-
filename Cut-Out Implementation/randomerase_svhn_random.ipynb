{
  "metadata": {
    "kernelspec": {
      "language": "python",
      "display_name": "Python 3",
      "name": "python3"
    },
    "language_info": {
      "pygments_lexer": "ipython3",
      "nbconvert_exporter": "python",
      "version": "3.6.4",
      "file_extension": ".py",
      "codemirror_mode": {
        "name": "ipython",
        "version": 3
      },
      "name": "python",
      "mimetype": "text/x-python"
    },
    "colab": {
      "name": "randomerase_svhn_random.ipynb",
      "provenance": [],
      "include_colab_link": true
    },
    "accelerator": "GPU",
    "widgets": {
      "application/vnd.jupyter.widget-state+json": {
        "9714d4d3b02547e6976c8c5d185ef1b2": {
          "model_module": "@jupyter-widgets/controls",
          "model_name": "HBoxModel",
          "model_module_version": "1.5.0",
          "state": {
            "_dom_classes": [],
            "_model_module": "@jupyter-widgets/controls",
            "_model_module_version": "1.5.0",
            "_model_name": "HBoxModel",
            "_view_count": null,
            "_view_module": "@jupyter-widgets/controls",
            "_view_module_version": "1.5.0",
            "_view_name": "HBoxView",
            "box_style": "",
            "children": [
              "IPY_MODEL_dca63b47c5c346f68aac0210671d89ce",
              "IPY_MODEL_cda4c41bb22a42faa0d32c957c693f68",
              "IPY_MODEL_d76ade4a83ab4473a392486a5412274e"
            ],
            "layout": "IPY_MODEL_0dacad6392044bdaa140feedc20ac178"
          }
        },
        "dca63b47c5c346f68aac0210671d89ce": {
          "model_module": "@jupyter-widgets/controls",
          "model_name": "HTMLModel",
          "model_module_version": "1.5.0",
          "state": {
            "_dom_classes": [],
            "_model_module": "@jupyter-widgets/controls",
            "_model_module_version": "1.5.0",
            "_model_name": "HTMLModel",
            "_view_count": null,
            "_view_module": "@jupyter-widgets/controls",
            "_view_module_version": "1.5.0",
            "_view_name": "HTMLView",
            "description": "",
            "description_tooltip": null,
            "layout": "IPY_MODEL_0c0a4ab8d7794c79acf73ee64d7e618f",
            "placeholder": "​",
            "style": "IPY_MODEL_fe77449af4bd49ab91bb912d0d1cd14a",
            "value": ""
          }
        },
        "cda4c41bb22a42faa0d32c957c693f68": {
          "model_module": "@jupyter-widgets/controls",
          "model_name": "FloatProgressModel",
          "model_module_version": "1.5.0",
          "state": {
            "_dom_classes": [],
            "_model_module": "@jupyter-widgets/controls",
            "_model_module_version": "1.5.0",
            "_model_name": "FloatProgressModel",
            "_view_count": null,
            "_view_module": "@jupyter-widgets/controls",
            "_view_module_version": "1.5.0",
            "_view_name": "ProgressView",
            "bar_style": "success",
            "description": "",
            "description_tooltip": null,
            "layout": "IPY_MODEL_5b76c1475a514c9f886cded828cb0d0f",
            "max": 182040794,
            "min": 0,
            "orientation": "horizontal",
            "style": "IPY_MODEL_e810b0175f2e4cfc97b7fb2a972aeced",
            "value": 182040794
          }
        },
        "d76ade4a83ab4473a392486a5412274e": {
          "model_module": "@jupyter-widgets/controls",
          "model_name": "HTMLModel",
          "model_module_version": "1.5.0",
          "state": {
            "_dom_classes": [],
            "_model_module": "@jupyter-widgets/controls",
            "_model_module_version": "1.5.0",
            "_model_name": "HTMLModel",
            "_view_count": null,
            "_view_module": "@jupyter-widgets/controls",
            "_view_module_version": "1.5.0",
            "_view_name": "HTMLView",
            "description": "",
            "description_tooltip": null,
            "layout": "IPY_MODEL_f74e55963e1e4ecf9250f3bbd426abb4",
            "placeholder": "​",
            "style": "IPY_MODEL_b417b1b86c284e92ad565764bfbc69e2",
            "value": " 182041600/? [00:05&lt;00:00, 50742794.60it/s]"
          }
        },
        "0dacad6392044bdaa140feedc20ac178": {
          "model_module": "@jupyter-widgets/base",
          "model_name": "LayoutModel",
          "model_module_version": "1.2.0",
          "state": {
            "_model_module": "@jupyter-widgets/base",
            "_model_module_version": "1.2.0",
            "_model_name": "LayoutModel",
            "_view_count": null,
            "_view_module": "@jupyter-widgets/base",
            "_view_module_version": "1.2.0",
            "_view_name": "LayoutView",
            "align_content": null,
            "align_items": null,
            "align_self": null,
            "border": null,
            "bottom": null,
            "display": null,
            "flex": null,
            "flex_flow": null,
            "grid_area": null,
            "grid_auto_columns": null,
            "grid_auto_flow": null,
            "grid_auto_rows": null,
            "grid_column": null,
            "grid_gap": null,
            "grid_row": null,
            "grid_template_areas": null,
            "grid_template_columns": null,
            "grid_template_rows": null,
            "height": null,
            "justify_content": null,
            "justify_items": null,
            "left": null,
            "margin": null,
            "max_height": null,
            "max_width": null,
            "min_height": null,
            "min_width": null,
            "object_fit": null,
            "object_position": null,
            "order": null,
            "overflow": null,
            "overflow_x": null,
            "overflow_y": null,
            "padding": null,
            "right": null,
            "top": null,
            "visibility": null,
            "width": null
          }
        },
        "0c0a4ab8d7794c79acf73ee64d7e618f": {
          "model_module": "@jupyter-widgets/base",
          "model_name": "LayoutModel",
          "model_module_version": "1.2.0",
          "state": {
            "_model_module": "@jupyter-widgets/base",
            "_model_module_version": "1.2.0",
            "_model_name": "LayoutModel",
            "_view_count": null,
            "_view_module": "@jupyter-widgets/base",
            "_view_module_version": "1.2.0",
            "_view_name": "LayoutView",
            "align_content": null,
            "align_items": null,
            "align_self": null,
            "border": null,
            "bottom": null,
            "display": null,
            "flex": null,
            "flex_flow": null,
            "grid_area": null,
            "grid_auto_columns": null,
            "grid_auto_flow": null,
            "grid_auto_rows": null,
            "grid_column": null,
            "grid_gap": null,
            "grid_row": null,
            "grid_template_areas": null,
            "grid_template_columns": null,
            "grid_template_rows": null,
            "height": null,
            "justify_content": null,
            "justify_items": null,
            "left": null,
            "margin": null,
            "max_height": null,
            "max_width": null,
            "min_height": null,
            "min_width": null,
            "object_fit": null,
            "object_position": null,
            "order": null,
            "overflow": null,
            "overflow_x": null,
            "overflow_y": null,
            "padding": null,
            "right": null,
            "top": null,
            "visibility": null,
            "width": null
          }
        },
        "fe77449af4bd49ab91bb912d0d1cd14a": {
          "model_module": "@jupyter-widgets/controls",
          "model_name": "DescriptionStyleModel",
          "model_module_version": "1.5.0",
          "state": {
            "_model_module": "@jupyter-widgets/controls",
            "_model_module_version": "1.5.0",
            "_model_name": "DescriptionStyleModel",
            "_view_count": null,
            "_view_module": "@jupyter-widgets/base",
            "_view_module_version": "1.2.0",
            "_view_name": "StyleView",
            "description_width": ""
          }
        },
        "5b76c1475a514c9f886cded828cb0d0f": {
          "model_module": "@jupyter-widgets/base",
          "model_name": "LayoutModel",
          "model_module_version": "1.2.0",
          "state": {
            "_model_module": "@jupyter-widgets/base",
            "_model_module_version": "1.2.0",
            "_model_name": "LayoutModel",
            "_view_count": null,
            "_view_module": "@jupyter-widgets/base",
            "_view_module_version": "1.2.0",
            "_view_name": "LayoutView",
            "align_content": null,
            "align_items": null,
            "align_self": null,
            "border": null,
            "bottom": null,
            "display": null,
            "flex": null,
            "flex_flow": null,
            "grid_area": null,
            "grid_auto_columns": null,
            "grid_auto_flow": null,
            "grid_auto_rows": null,
            "grid_column": null,
            "grid_gap": null,
            "grid_row": null,
            "grid_template_areas": null,
            "grid_template_columns": null,
            "grid_template_rows": null,
            "height": null,
            "justify_content": null,
            "justify_items": null,
            "left": null,
            "margin": null,
            "max_height": null,
            "max_width": null,
            "min_height": null,
            "min_width": null,
            "object_fit": null,
            "object_position": null,
            "order": null,
            "overflow": null,
            "overflow_x": null,
            "overflow_y": null,
            "padding": null,
            "right": null,
            "top": null,
            "visibility": null,
            "width": null
          }
        },
        "e810b0175f2e4cfc97b7fb2a972aeced": {
          "model_module": "@jupyter-widgets/controls",
          "model_name": "ProgressStyleModel",
          "model_module_version": "1.5.0",
          "state": {
            "_model_module": "@jupyter-widgets/controls",
            "_model_module_version": "1.5.0",
            "_model_name": "ProgressStyleModel",
            "_view_count": null,
            "_view_module": "@jupyter-widgets/base",
            "_view_module_version": "1.2.0",
            "_view_name": "StyleView",
            "bar_color": null,
            "description_width": ""
          }
        },
        "f74e55963e1e4ecf9250f3bbd426abb4": {
          "model_module": "@jupyter-widgets/base",
          "model_name": "LayoutModel",
          "model_module_version": "1.2.0",
          "state": {
            "_model_module": "@jupyter-widgets/base",
            "_model_module_version": "1.2.0",
            "_model_name": "LayoutModel",
            "_view_count": null,
            "_view_module": "@jupyter-widgets/base",
            "_view_module_version": "1.2.0",
            "_view_name": "LayoutView",
            "align_content": null,
            "align_items": null,
            "align_self": null,
            "border": null,
            "bottom": null,
            "display": null,
            "flex": null,
            "flex_flow": null,
            "grid_area": null,
            "grid_auto_columns": null,
            "grid_auto_flow": null,
            "grid_auto_rows": null,
            "grid_column": null,
            "grid_gap": null,
            "grid_row": null,
            "grid_template_areas": null,
            "grid_template_columns": null,
            "grid_template_rows": null,
            "height": null,
            "justify_content": null,
            "justify_items": null,
            "left": null,
            "margin": null,
            "max_height": null,
            "max_width": null,
            "min_height": null,
            "min_width": null,
            "object_fit": null,
            "object_position": null,
            "order": null,
            "overflow": null,
            "overflow_x": null,
            "overflow_y": null,
            "padding": null,
            "right": null,
            "top": null,
            "visibility": null,
            "width": null
          }
        },
        "b417b1b86c284e92ad565764bfbc69e2": {
          "model_module": "@jupyter-widgets/controls",
          "model_name": "DescriptionStyleModel",
          "model_module_version": "1.5.0",
          "state": {
            "_model_module": "@jupyter-widgets/controls",
            "_model_module_version": "1.5.0",
            "_model_name": "DescriptionStyleModel",
            "_view_count": null,
            "_view_module": "@jupyter-widgets/base",
            "_view_module_version": "1.2.0",
            "_view_name": "StyleView",
            "description_width": ""
          }
        },
        "725cd2b9f1eb4ca0853fcd77e57a7acf": {
          "model_module": "@jupyter-widgets/controls",
          "model_name": "HBoxModel",
          "model_module_version": "1.5.0",
          "state": {
            "_dom_classes": [],
            "_model_module": "@jupyter-widgets/controls",
            "_model_module_version": "1.5.0",
            "_model_name": "HBoxModel",
            "_view_count": null,
            "_view_module": "@jupyter-widgets/controls",
            "_view_module_version": "1.5.0",
            "_view_name": "HBoxView",
            "box_style": "",
            "children": [
              "IPY_MODEL_f4e715fc83c341029bc59ad96afadaeb",
              "IPY_MODEL_2bc88a2fafc74d4ca7db3db613d89ccf",
              "IPY_MODEL_9a69fd3da7c240a8bc7040732d89823b"
            ],
            "layout": "IPY_MODEL_96160e2880884c5ba016940a24ca2137"
          }
        },
        "f4e715fc83c341029bc59ad96afadaeb": {
          "model_module": "@jupyter-widgets/controls",
          "model_name": "HTMLModel",
          "model_module_version": "1.5.0",
          "state": {
            "_dom_classes": [],
            "_model_module": "@jupyter-widgets/controls",
            "_model_module_version": "1.5.0",
            "_model_name": "HTMLModel",
            "_view_count": null,
            "_view_module": "@jupyter-widgets/controls",
            "_view_module_version": "1.5.0",
            "_view_name": "HTMLView",
            "description": "",
            "description_tooltip": null,
            "layout": "IPY_MODEL_64ac64cc161f45dfbb7254426be7b142",
            "placeholder": "​",
            "style": "IPY_MODEL_774df7272e3e4693b1dc49007de1bdfa",
            "value": ""
          }
        },
        "2bc88a2fafc74d4ca7db3db613d89ccf": {
          "model_module": "@jupyter-widgets/controls",
          "model_name": "FloatProgressModel",
          "model_module_version": "1.5.0",
          "state": {
            "_dom_classes": [],
            "_model_module": "@jupyter-widgets/controls",
            "_model_module_version": "1.5.0",
            "_model_name": "FloatProgressModel",
            "_view_count": null,
            "_view_module": "@jupyter-widgets/controls",
            "_view_module_version": "1.5.0",
            "_view_name": "ProgressView",
            "bar_style": "success",
            "description": "",
            "description_tooltip": null,
            "layout": "IPY_MODEL_de11aca6c782448ab3490ff5f000c2fe",
            "max": 64275384,
            "min": 0,
            "orientation": "horizontal",
            "style": "IPY_MODEL_ec2f891d48354966bbb2604470d6fa74",
            "value": 64275384
          }
        },
        "9a69fd3da7c240a8bc7040732d89823b": {
          "model_module": "@jupyter-widgets/controls",
          "model_name": "HTMLModel",
          "model_module_version": "1.5.0",
          "state": {
            "_dom_classes": [],
            "_model_module": "@jupyter-widgets/controls",
            "_model_module_version": "1.5.0",
            "_model_name": "HTMLModel",
            "_view_count": null,
            "_view_module": "@jupyter-widgets/controls",
            "_view_module_version": "1.5.0",
            "_view_name": "HTMLView",
            "description": "",
            "description_tooltip": null,
            "layout": "IPY_MODEL_e790689e57614b2ba7792f58e8bc3c05",
            "placeholder": "​",
            "style": "IPY_MODEL_e3a5dab7f74e4ff6a9b425e71d8a6a63",
            "value": " 64275456/? [00:02&lt;00:00, 51843640.13it/s]"
          }
        },
        "96160e2880884c5ba016940a24ca2137": {
          "model_module": "@jupyter-widgets/base",
          "model_name": "LayoutModel",
          "model_module_version": "1.2.0",
          "state": {
            "_model_module": "@jupyter-widgets/base",
            "_model_module_version": "1.2.0",
            "_model_name": "LayoutModel",
            "_view_count": null,
            "_view_module": "@jupyter-widgets/base",
            "_view_module_version": "1.2.0",
            "_view_name": "LayoutView",
            "align_content": null,
            "align_items": null,
            "align_self": null,
            "border": null,
            "bottom": null,
            "display": null,
            "flex": null,
            "flex_flow": null,
            "grid_area": null,
            "grid_auto_columns": null,
            "grid_auto_flow": null,
            "grid_auto_rows": null,
            "grid_column": null,
            "grid_gap": null,
            "grid_row": null,
            "grid_template_areas": null,
            "grid_template_columns": null,
            "grid_template_rows": null,
            "height": null,
            "justify_content": null,
            "justify_items": null,
            "left": null,
            "margin": null,
            "max_height": null,
            "max_width": null,
            "min_height": null,
            "min_width": null,
            "object_fit": null,
            "object_position": null,
            "order": null,
            "overflow": null,
            "overflow_x": null,
            "overflow_y": null,
            "padding": null,
            "right": null,
            "top": null,
            "visibility": null,
            "width": null
          }
        },
        "64ac64cc161f45dfbb7254426be7b142": {
          "model_module": "@jupyter-widgets/base",
          "model_name": "LayoutModel",
          "model_module_version": "1.2.0",
          "state": {
            "_model_module": "@jupyter-widgets/base",
            "_model_module_version": "1.2.0",
            "_model_name": "LayoutModel",
            "_view_count": null,
            "_view_module": "@jupyter-widgets/base",
            "_view_module_version": "1.2.0",
            "_view_name": "LayoutView",
            "align_content": null,
            "align_items": null,
            "align_self": null,
            "border": null,
            "bottom": null,
            "display": null,
            "flex": null,
            "flex_flow": null,
            "grid_area": null,
            "grid_auto_columns": null,
            "grid_auto_flow": null,
            "grid_auto_rows": null,
            "grid_column": null,
            "grid_gap": null,
            "grid_row": null,
            "grid_template_areas": null,
            "grid_template_columns": null,
            "grid_template_rows": null,
            "height": null,
            "justify_content": null,
            "justify_items": null,
            "left": null,
            "margin": null,
            "max_height": null,
            "max_width": null,
            "min_height": null,
            "min_width": null,
            "object_fit": null,
            "object_position": null,
            "order": null,
            "overflow": null,
            "overflow_x": null,
            "overflow_y": null,
            "padding": null,
            "right": null,
            "top": null,
            "visibility": null,
            "width": null
          }
        },
        "774df7272e3e4693b1dc49007de1bdfa": {
          "model_module": "@jupyter-widgets/controls",
          "model_name": "DescriptionStyleModel",
          "model_module_version": "1.5.0",
          "state": {
            "_model_module": "@jupyter-widgets/controls",
            "_model_module_version": "1.5.0",
            "_model_name": "DescriptionStyleModel",
            "_view_count": null,
            "_view_module": "@jupyter-widgets/base",
            "_view_module_version": "1.2.0",
            "_view_name": "StyleView",
            "description_width": ""
          }
        },
        "de11aca6c782448ab3490ff5f000c2fe": {
          "model_module": "@jupyter-widgets/base",
          "model_name": "LayoutModel",
          "model_module_version": "1.2.0",
          "state": {
            "_model_module": "@jupyter-widgets/base",
            "_model_module_version": "1.2.0",
            "_model_name": "LayoutModel",
            "_view_count": null,
            "_view_module": "@jupyter-widgets/base",
            "_view_module_version": "1.2.0",
            "_view_name": "LayoutView",
            "align_content": null,
            "align_items": null,
            "align_self": null,
            "border": null,
            "bottom": null,
            "display": null,
            "flex": null,
            "flex_flow": null,
            "grid_area": null,
            "grid_auto_columns": null,
            "grid_auto_flow": null,
            "grid_auto_rows": null,
            "grid_column": null,
            "grid_gap": null,
            "grid_row": null,
            "grid_template_areas": null,
            "grid_template_columns": null,
            "grid_template_rows": null,
            "height": null,
            "justify_content": null,
            "justify_items": null,
            "left": null,
            "margin": null,
            "max_height": null,
            "max_width": null,
            "min_height": null,
            "min_width": null,
            "object_fit": null,
            "object_position": null,
            "order": null,
            "overflow": null,
            "overflow_x": null,
            "overflow_y": null,
            "padding": null,
            "right": null,
            "top": null,
            "visibility": null,
            "width": null
          }
        },
        "ec2f891d48354966bbb2604470d6fa74": {
          "model_module": "@jupyter-widgets/controls",
          "model_name": "ProgressStyleModel",
          "model_module_version": "1.5.0",
          "state": {
            "_model_module": "@jupyter-widgets/controls",
            "_model_module_version": "1.5.0",
            "_model_name": "ProgressStyleModel",
            "_view_count": null,
            "_view_module": "@jupyter-widgets/base",
            "_view_module_version": "1.2.0",
            "_view_name": "StyleView",
            "bar_color": null,
            "description_width": ""
          }
        },
        "e790689e57614b2ba7792f58e8bc3c05": {
          "model_module": "@jupyter-widgets/base",
          "model_name": "LayoutModel",
          "model_module_version": "1.2.0",
          "state": {
            "_model_module": "@jupyter-widgets/base",
            "_model_module_version": "1.2.0",
            "_model_name": "LayoutModel",
            "_view_count": null,
            "_view_module": "@jupyter-widgets/base",
            "_view_module_version": "1.2.0",
            "_view_name": "LayoutView",
            "align_content": null,
            "align_items": null,
            "align_self": null,
            "border": null,
            "bottom": null,
            "display": null,
            "flex": null,
            "flex_flow": null,
            "grid_area": null,
            "grid_auto_columns": null,
            "grid_auto_flow": null,
            "grid_auto_rows": null,
            "grid_column": null,
            "grid_gap": null,
            "grid_row": null,
            "grid_template_areas": null,
            "grid_template_columns": null,
            "grid_template_rows": null,
            "height": null,
            "justify_content": null,
            "justify_items": null,
            "left": null,
            "margin": null,
            "max_height": null,
            "max_width": null,
            "min_height": null,
            "min_width": null,
            "object_fit": null,
            "object_position": null,
            "order": null,
            "overflow": null,
            "overflow_x": null,
            "overflow_y": null,
            "padding": null,
            "right": null,
            "top": null,
            "visibility": null,
            "width": null
          }
        },
        "e3a5dab7f74e4ff6a9b425e71d8a6a63": {
          "model_module": "@jupyter-widgets/controls",
          "model_name": "DescriptionStyleModel",
          "model_module_version": "1.5.0",
          "state": {
            "_model_module": "@jupyter-widgets/controls",
            "_model_module_version": "1.5.0",
            "_model_name": "DescriptionStyleModel",
            "_view_count": null,
            "_view_module": "@jupyter-widgets/base",
            "_view_module_version": "1.2.0",
            "_view_name": "StyleView",
            "description_width": ""
          }
        }
      }
    }
  },
  "nbformat_minor": 0,
  "nbformat": 4,
  "cells": [
    {
      "cell_type": "markdown",
      "metadata": {
        "id": "view-in-github",
        "colab_type": "text"
      },
      "source": [
        "<a href=\"https://colab.research.google.com/github/lakshmanpadigala/SMAI_S22_5/blob/main/randomerase_svhn_random.ipynb\" target=\"_parent\"><img src=\"https://colab.research.google.com/assets/colab-badge.svg\" alt=\"Open In Colab\"/></a>"
      ]
    },
    {
      "cell_type": "code",
      "source": [
        "import pdb\n",
        "import argparse\n",
        "import numpy as np\n",
        "from tqdm import tqdm\n",
        "import random\n",
        "import torch\n",
        "import torch.nn as nn\n",
        "import torch.nn.functional as F\n",
        "from matplotlib import pyplot as plt\n",
        "from torch.autograd import Variable\n",
        "import torch.backends.cudnn as cudnn\n",
        "import torch.optim as optim\n",
        "from torch.optim.lr_scheduler import MultiStepLR\n",
        "# import matplotlib as plt\n",
        "from torchvision.utils import make_grid\n",
        "from torchvision import datasets, transforms\n",
        "import math\n",
        "import time"
      ],
      "metadata": {
        "id": "mLA1dLOVD_vV",
        "execution": {
          "iopub.status.busy": "2022-05-03T01:49:47.702883Z",
          "iopub.execute_input": "2022-05-03T01:49:47.703104Z",
          "iopub.status.idle": "2022-05-03T01:49:47.872594Z",
          "shell.execute_reply.started": "2022-05-03T01:49:47.703073Z",
          "shell.execute_reply": "2022-05-03T01:49:47.871972Z"
        },
        "trusted": true
      },
      "execution_count": 1,
      "outputs": []
    },
    {
      "cell_type": "code",
      "source": [
        "class RandomErasing(object):\n",
        "\n",
        "    def __init__(self, EPSILON = 0.5, sl = 0.02, sh = 0.4, r1 = 0.3, mean=[0.4914, 0.4822, 0.4465]):\n",
        "        self.EPSILON = EPSILON\n",
        "        self.mean = mean\n",
        "        self.sl = sl\n",
        "        self.sh = sh\n",
        "        self.r1 = r1\n",
        "       \n",
        "    def __call__(self, img):\n",
        "\n",
        "        if random.uniform(0, 1) > self.EPSILON:\n",
        "            return img\n",
        "\n",
        "        for attempt in range(100):\n",
        "            area = img.size()[1] * img.size()[2]\n",
        "       \n",
        "            target_area = random.uniform(self.sl, self.sh) * area\n",
        "            aspect_ratio = random.uniform(self.r1, 1/self.r1)\n",
        "\n",
        "            h = int(round(math.sqrt(target_area * aspect_ratio)))\n",
        "            w = int(round(math.sqrt(target_area / aspect_ratio)))\n",
        "            \n",
        "            \n",
        "            \n",
        "            if w < img.size()[2] and h < img.size()[1]:\n",
        "                \n",
        "                x1 = random.randint(0, img.size()[1] - h)\n",
        "                y1 = random.randint(0, img.size()[2] - w)\n",
        "                if img.size()[0] == 3:\n",
        "#                     print(\"Height:\",h,\"Width:\",w)\n",
        "#                     img[0, x1:x1+h, y1:y1+w] = random.uniform(0, 1)\n",
        "#                     img[1, x1:x1+h, y1:y1+w] = random.uniform(0, 1)\n",
        "#                     img[2, x1:x1+h, y1:y1+w] = random.uniform(0, 1)\n",
        "#                     img[0, x1:x1+h, y1:y1+w] = self.mean[0]\n",
        "#                     img[1, x1:x1+h, y1:y1+w] = self.mean[1]\n",
        "#                     img[2, x1:x1+h, y1:y1+w] = self.mean[2]\n",
        "                    img[:, x1:x1+h, y1:y1+w] = torch.from_numpy(np.random.rand(3, h, w))\n",
        "                else:\n",
        "                    # img[0, x1:x1+h, y1:y1+w] = self.mean[1]\n",
        "                    img[0, x1:x1+h, y1:y1+w] = torch.from_numpy(np.random.rand(1, h, w))\n",
        "                return img\n",
        "\n",
        "        return img"
      ],
      "metadata": {
        "id": "yDDZvKNsD_rz",
        "execution": {
          "iopub.status.busy": "2022-05-03T01:49:48.607581Z",
          "iopub.execute_input": "2022-05-03T01:49:48.608464Z",
          "iopub.status.idle": "2022-05-03T01:49:48.621387Z",
          "shell.execute_reply.started": "2022-05-03T01:49:48.608416Z",
          "shell.execute_reply": "2022-05-03T01:49:48.620517Z"
        },
        "trusted": true
      },
      "execution_count": 2,
      "outputs": []
    },
    {
      "cell_type": "code",
      "source": [
        "def conv3x3(in_planes, out_planes, stride=1):\n",
        "    return nn.Conv2d(in_planes, out_planes, kernel_size=3, stride=stride, padding=1, bias=False)\n",
        "\n",
        "\n",
        "class BasicBlock(nn.Module):\n",
        "    expansion = 1\n",
        "\n",
        "    def __init__(self, in_planes, planes, stride=1):\n",
        "        super(BasicBlock, self).__init__()\n",
        "        self.conv1 = conv3x3(in_planes, planes, stride)\n",
        "        self.bn1 = nn.BatchNorm2d(planes)\n",
        "        self.conv2 = conv3x3(planes, planes)\n",
        "        self.bn2 = nn.BatchNorm2d(planes)\n",
        "\n",
        "        self.shortcut = nn.Sequential()\n",
        "        if stride != 1 or in_planes != self.expansion*planes:\n",
        "            self.shortcut = nn.Sequential(\n",
        "                nn.Conv2d(in_planes, self.expansion*planes, kernel_size=1, stride=stride, bias=False),\n",
        "                nn.BatchNorm2d(self.expansion*planes)\n",
        "            )\n",
        "\n",
        "    def forward(self, x):\n",
        "        out = F.relu(self.bn1(self.conv1(x)))\n",
        "        out = self.bn2(self.conv2(out))\n",
        "        out += self.shortcut(x)\n",
        "        out = F.relu(out)\n",
        "        return out\n",
        "\n",
        "\n",
        "class Bottleneck(nn.Module):\n",
        "    expansion = 4\n",
        "\n",
        "    def __init__(self, in_planes, planes, stride=1):\n",
        "        super(Bottleneck, self).__init__()\n",
        "        self.conv1 = nn.Conv2d(in_planes, planes, kernel_size=1, bias=False)\n",
        "        self.bn1 = nn.BatchNorm2d(planes)\n",
        "        self.conv2 = nn.Conv2d(planes, planes, kernel_size=3, stride=stride, padding=1, bias=False)\n",
        "        self.bn2 = nn.BatchNorm2d(planes)\n",
        "        self.conv3 = nn.Conv2d(planes, self.expansion*planes, kernel_size=1, bias=False)\n",
        "        self.bn3 = nn.BatchNorm2d(self.expansion*planes)\n",
        "\n",
        "        self.shortcut = nn.Sequential()\n",
        "        if stride != 1 or in_planes != self.expansion*planes:\n",
        "            self.shortcut = nn.Sequential(\n",
        "                nn.Conv2d(in_planes, self.expansion*planes, kernel_size=1, stride=stride, bias=False),\n",
        "                nn.BatchNorm2d(self.expansion*planes)\n",
        "            )\n",
        "\n",
        "    def forward(self, x):\n",
        "        out = F.relu(self.bn1(self.conv1(x)))\n",
        "        out = F.relu(self.bn2(self.conv2(out)))\n",
        "        out = self.bn3(self.conv3(out))\n",
        "        out += self.shortcut(x)\n",
        "        out = F.relu(out)\n",
        "        return out\n",
        "\n",
        "\n",
        "class ResNet(nn.Module):\n",
        "    def __init__(self, block, num_blocks, num_classes=10):\n",
        "        super(ResNet, self).__init__()\n",
        "        self.in_planes = 64\n",
        "\n",
        "        self.conv1 = conv3x3(3,64)\n",
        "        self.bn1 = nn.BatchNorm2d(64)\n",
        "        self.layer1 = self._make_layer(block, 64, num_blocks[0], stride=1)\n",
        "        self.layer2 = self._make_layer(block, 128, num_blocks[1], stride=2)\n",
        "        self.layer3 = self._make_layer(block, 256, num_blocks[2], stride=2)\n",
        "        self.layer4 = self._make_layer(block, 512, num_blocks[3], stride=2)\n",
        "        self.linear = nn.Linear(512*block.expansion, num_classes)\n",
        "\n",
        "    def _make_layer(self, block, planes, num_blocks, stride):\n",
        "        strides = [stride] + [1]*(num_blocks-1)\n",
        "        layers = []\n",
        "        for stride in strides:\n",
        "            layers.append(block(self.in_planes, planes, stride))\n",
        "            self.in_planes = planes * block.expansion\n",
        "        return nn.Sequential(*layers)\n",
        "\n",
        "    def forward(self, x):\n",
        "        out = F.relu(self.bn1(self.conv1(x)))\n",
        "        out = self.layer1(out)\n",
        "        out = self.layer2(out)\n",
        "        out = self.layer3(out)\n",
        "        out = self.layer4(out)\n",
        "        out = F.avg_pool2d(out, 4)\n",
        "        out = out.view(out.size(0), -1)\n",
        "        out = self.linear(out)\n",
        "        return out\n"
      ],
      "metadata": {
        "id": "WR9jpL2YGyfY",
        "execution": {
          "iopub.status.busy": "2022-05-03T01:49:49.452207Z",
          "iopub.execute_input": "2022-05-03T01:49:49.452661Z",
          "iopub.status.idle": "2022-05-03T01:49:49.476166Z",
          "shell.execute_reply.started": "2022-05-03T01:49:49.452628Z",
          "shell.execute_reply": "2022-05-03T01:49:49.475269Z"
        },
        "trusted": true
      },
      "execution_count": 3,
      "outputs": []
    },
    {
      "cell_type": "code",
      "source": [
        "normalize = transforms.Normalize(mean=[x / 255.0 for x in [109.9, 109.7, 113.8] ],std=[x / 255.0 for x in [50.1, 50.6, 50.8] ])\n",
        "train_transform = transforms.Compose([])\n",
        "train_transform.transforms.append(transforms.ToTensor())\n",
        "train_transform.transforms.append(normalize)\n",
        "train_transform.transforms.append(RandomErasing(mean=[x / 255.0 for x in [109.9, 109.7, 113.8] ]))\n",
        "test_transform = transforms.Compose([transforms.ToTensor(),normalize])"
      ],
      "metadata": {
        "id": "HMM84-GbD_nJ",
        "execution": {
          "iopub.status.busy": "2022-05-03T01:49:50.464012Z",
          "iopub.execute_input": "2022-05-03T01:49:50.464437Z",
          "iopub.status.idle": "2022-05-03T01:49:50.47095Z",
          "shell.execute_reply.started": "2022-05-03T01:49:50.464395Z",
          "shell.execute_reply": "2022-05-03T01:49:50.470225Z"
        },
        "trusted": true
      },
      "execution_count": 4,
      "outputs": []
    },
    {
      "cell_type": "code",
      "source": [
        "train_dataset = datasets.SVHN(root='data/',\n",
        "                                  split='train',\n",
        "                                  transform=train_transform,\n",
        "                                  download=True)\n",
        "test_dataset = datasets.SVHN(root='data/',\n",
        "                                 split='test',\n",
        "                                 transform=test_transform,\n",
        "                                 download=True)"
      ],
      "metadata": {
        "id": "AIRerqPUD_k5",
        "outputId": "9fac17a4-d4d3-4aed-8ed3-309ed5e1001b",
        "execution": {
          "iopub.status.busy": "2022-05-03T01:49:56.85059Z",
          "iopub.execute_input": "2022-05-03T01:49:56.850845Z",
          "iopub.status.idle": "2022-05-03T01:50:12.482564Z",
          "shell.execute_reply.started": "2022-05-03T01:49:56.850815Z",
          "shell.execute_reply": "2022-05-03T01:50:12.481815Z"
        },
        "trusted": true,
        "colab": {
          "base_uri": "https://localhost:8080/",
          "height": 117,
          "referenced_widgets": [
            "9714d4d3b02547e6976c8c5d185ef1b2",
            "dca63b47c5c346f68aac0210671d89ce",
            "cda4c41bb22a42faa0d32c957c693f68",
            "d76ade4a83ab4473a392486a5412274e",
            "0dacad6392044bdaa140feedc20ac178",
            "0c0a4ab8d7794c79acf73ee64d7e618f",
            "fe77449af4bd49ab91bb912d0d1cd14a",
            "5b76c1475a514c9f886cded828cb0d0f",
            "e810b0175f2e4cfc97b7fb2a972aeced",
            "f74e55963e1e4ecf9250f3bbd426abb4",
            "b417b1b86c284e92ad565764bfbc69e2",
            "725cd2b9f1eb4ca0853fcd77e57a7acf",
            "f4e715fc83c341029bc59ad96afadaeb",
            "2bc88a2fafc74d4ca7db3db613d89ccf",
            "9a69fd3da7c240a8bc7040732d89823b",
            "96160e2880884c5ba016940a24ca2137",
            "64ac64cc161f45dfbb7254426be7b142",
            "774df7272e3e4693b1dc49007de1bdfa",
            "de11aca6c782448ab3490ff5f000c2fe",
            "ec2f891d48354966bbb2604470d6fa74",
            "e790689e57614b2ba7792f58e8bc3c05",
            "e3a5dab7f74e4ff6a9b425e71d8a6a63"
          ]
        }
      },
      "execution_count": 5,
      "outputs": [
        {
          "output_type": "stream",
          "name": "stdout",
          "text": [
            "Downloading http://ufldl.stanford.edu/housenumbers/train_32x32.mat to data/train_32x32.mat\n"
          ]
        },
        {
          "output_type": "display_data",
          "data": {
            "text/plain": [
              "  0%|          | 0/182040794 [00:00<?, ?it/s]"
            ],
            "application/vnd.jupyter.widget-view+json": {
              "version_major": 2,
              "version_minor": 0,
              "model_id": "9714d4d3b02547e6976c8c5d185ef1b2"
            }
          },
          "metadata": {}
        },
        {
          "output_type": "stream",
          "name": "stdout",
          "text": [
            "Downloading http://ufldl.stanford.edu/housenumbers/test_32x32.mat to data/test_32x32.mat\n"
          ]
        },
        {
          "output_type": "display_data",
          "data": {
            "text/plain": [
              "  0%|          | 0/64275384 [00:00<?, ?it/s]"
            ],
            "application/vnd.jupyter.widget-view+json": {
              "version_major": 2,
              "version_minor": 0,
              "model_id": "725cd2b9f1eb4ca0853fcd77e57a7acf"
            }
          },
          "metadata": {}
        }
      ]
    },
    {
      "cell_type": "code",
      "source": [
        "train_dataset.data.shape, test_dataset.data.shape"
      ],
      "metadata": {
        "id": "vIhvWs1APFgs",
        "outputId": "867ee203-3b74-4ddf-bbca-009800b7b693",
        "execution": {
          "iopub.status.busy": "2022-05-03T01:50:12.484188Z",
          "iopub.execute_input": "2022-05-03T01:50:12.484429Z",
          "iopub.status.idle": "2022-05-03T01:50:12.493297Z",
          "shell.execute_reply.started": "2022-05-03T01:50:12.484395Z",
          "shell.execute_reply": "2022-05-03T01:50:12.492437Z"
        },
        "trusted": true,
        "colab": {
          "base_uri": "https://localhost:8080/"
        }
      },
      "execution_count": 6,
      "outputs": [
        {
          "output_type": "execute_result",
          "data": {
            "text/plain": [
              "((73257, 3, 32, 32), (26032, 3, 32, 32))"
            ]
          },
          "metadata": {},
          "execution_count": 6
        }
      ]
    },
    {
      "cell_type": "code",
      "source": [
        "train_loader = torch.utils.data.DataLoader(dataset=train_dataset,\n",
        "                                           batch_size=128,\n",
        "                                           shuffle=True,\n",
        "                                           pin_memory=True,\n",
        "                                           num_workers=2)\n",
        "test_loader = torch.utils.data.DataLoader(dataset=test_dataset,\n",
        "                                          batch_size=128,\n",
        "                                          shuffle=False,\n",
        "                                          pin_memory=True,\n",
        "                                          num_workers=2)"
      ],
      "metadata": {
        "id": "VKEOA5pXD_ij",
        "execution": {
          "iopub.status.busy": "2022-05-03T01:50:14.68347Z",
          "iopub.execute_input": "2022-05-03T01:50:14.68373Z",
          "iopub.status.idle": "2022-05-03T01:50:14.689335Z",
          "shell.execute_reply.started": "2022-05-03T01:50:14.683701Z",
          "shell.execute_reply": "2022-05-03T01:50:14.688472Z"
        },
        "trusted": true
      },
      "execution_count": 7,
      "outputs": []
    },
    {
      "cell_type": "code",
      "source": [
        "imgs = []\n",
        "for i, (images, labels) in enumerate(train_loader):\n",
        "    imgs.extend(images[0:6])\n",
        "    break"
      ],
      "metadata": {
        "execution": {
          "iopub.status.busy": "2022-05-03T01:50:17.284918Z",
          "iopub.execute_input": "2022-05-03T01:50:17.285199Z",
          "iopub.status.idle": "2022-05-03T01:50:20.362266Z",
          "shell.execute_reply.started": "2022-05-03T01:50:17.285167Z",
          "shell.execute_reply": "2022-05-03T01:50:20.361388Z"
        },
        "trusted": true,
        "id": "6n-IKf5dx3ym"
      },
      "execution_count": 11,
      "outputs": []
    },
    {
      "cell_type": "code",
      "source": [
        "# img_normalized = transform_norm(img)\n",
        "img_normalized = imgs[5]\n",
        "  \n",
        "# convert tis image to numpy array\n",
        "img_normalized = np.array(img_normalized)\n",
        "  \n",
        "# transpose from shape of (3,,) to shape of (,,3)\n",
        "img_normalized = img_normalized.transpose(1, 2, 0)\n",
        "  \n",
        "# display the normalized image\n",
        "plt.imshow(img_normalized)\n",
        "plt.xticks([])\n",
        "plt.yticks([])"
      ],
      "metadata": {
        "execution": {
          "iopub.status.busy": "2022-05-03T01:50:25.412151Z",
          "iopub.execute_input": "2022-05-03T01:50:25.412406Z",
          "iopub.status.idle": "2022-05-03T01:50:25.496671Z",
          "shell.execute_reply.started": "2022-05-03T01:50:25.412377Z",
          "shell.execute_reply": "2022-05-03T01:50:25.495951Z"
        },
        "trusted": true,
        "colab": {
          "base_uri": "https://localhost:8080/",
          "height": 288
        },
        "id": "7OyaT50Lx3yn",
        "outputId": "1873332f-e879-4976-facc-e9834ebdcb65"
      },
      "execution_count": 12,
      "outputs": [
        {
          "output_type": "stream",
          "name": "stderr",
          "text": [
            "Clipping input data to the valid range for imshow with RGB data ([0..1] for floats or [0..255] for integers).\n"
          ]
        },
        {
          "output_type": "execute_result",
          "data": {
            "text/plain": [
              "([], <a list of 0 Text major ticklabel objects>)"
            ]
          },
          "metadata": {},
          "execution_count": 12
        },
        {
          "output_type": "display_data",
          "data": {
            "text/plain": [
              "<Figure size 432x288 with 1 Axes>"
            ],
            "image/png": "[encoded data removed]"
          },
          "metadata": {}
        }
      ]
    },
    {
      "cell_type": "code",
      "source": [
        "num_classes = 10\n",
        "cnn = ResNet(BasicBlock, [2,2,2,2], num_classes)"
      ],
      "metadata": {
        "id": "znW5zql9D_pd",
        "execution": {
          "iopub.status.busy": "2022-05-03T01:50:43.993007Z",
          "iopub.execute_input": "2022-05-03T01:50:43.99366Z",
          "iopub.status.idle": "2022-05-03T01:50:44.097715Z",
          "shell.execute_reply.started": "2022-05-03T01:50:43.993624Z",
          "shell.execute_reply": "2022-05-03T01:50:44.097017Z"
        },
        "trusted": true
      },
      "execution_count": 13,
      "outputs": []
    },
    {
      "cell_type": "code",
      "source": [
        "cnn.state_dict"
      ],
      "metadata": {
        "id": "xz3nVDODRpFs",
        "outputId": "0186ea88-682a-4ee0-9d29-168eddbfdb2b",
        "execution": {
          "iopub.status.busy": "2022-05-03T01:50:45.339037Z",
          "iopub.execute_input": "2022-05-03T01:50:45.339675Z",
          "iopub.status.idle": "2022-05-03T01:50:45.345695Z",
          "shell.execute_reply.started": "2022-05-03T01:50:45.339632Z",
          "shell.execute_reply": "2022-05-03T01:50:45.345025Z"
        },
        "trusted": true,
        "colab": {
          "base_uri": "https://localhost:8080/"
        }
      },
      "execution_count": 14,
      "outputs": [
        {
          "output_type": "execute_result",
          "data": {
            "text/plain": [
              "<bound method Module.state_dict of ResNet(\n",
              "  (conv1): Conv2d(3, 64, kernel_size=(3, 3), stride=(1, 1), padding=(1, 1), bias=False)\n",
              "  (bn1): BatchNorm2d(64, eps=1e-05, momentum=0.1, affine=True, track_running_stats=True)\n",
              "  (layer1): Sequential(\n",
              "    (0): BasicBlock(\n",
              "      (conv1): Conv2d(64, 64, kernel_size=(3, 3), stride=(1, 1), padding=(1, 1), bias=False)\n",
              "      (bn1): BatchNorm2d(64, eps=1e-05, momentum=0.1, affine=True, track_running_stats=True)\n",
              "      (conv2): Conv2d(64, 64, kernel_size=(3, 3), stride=(1, 1), padding=(1, 1), bias=False)\n",
              "      (bn2): BatchNorm2d(64, eps=1e-05, momentum=0.1, affine=True, track_running_stats=True)\n",
              "      (shortcut): Sequential()\n",
              "    )\n",
              "    (1): BasicBlock(\n",
              "      (conv1): Conv2d(64, 64, kernel_size=(3, 3), stride=(1, 1), padding=(1, 1), bias=False)\n",
              "      (bn1): BatchNorm2d(64, eps=1e-05, momentum=0.1, affine=True, track_running_stats=True)\n",
              "      (conv2): Conv2d(64, 64, kernel_size=(3, 3), stride=(1, 1), padding=(1, 1), bias=False)\n",
              "      (bn2): BatchNorm2d(64, eps=1e-05, momentum=0.1, affine=True, track_running_stats=True)\n",
              "      (shortcut): Sequential()\n",
              "    )\n",
              "  )\n",
              "  (layer2): Sequential(\n",
              "    (0): BasicBlock(\n",
              "      (conv1): Conv2d(64, 128, kernel_size=(3, 3), stride=(2, 2), padding=(1, 1), bias=False)\n",
              "      (bn1): BatchNorm2d(128, eps=1e-05, momentum=0.1, affine=True, track_running_stats=True)\n",
              "      (conv2): Conv2d(128, 128, kernel_size=(3, 3), stride=(1, 1), padding=(1, 1), bias=False)\n",
              "      (bn2): BatchNorm2d(128, eps=1e-05, momentum=0.1, affine=True, track_running_stats=True)\n",
              "      (shortcut): Sequential(\n",
              "        (0): Conv2d(64, 128, kernel_size=(1, 1), stride=(2, 2), bias=False)\n",
              "        (1): BatchNorm2d(128, eps=1e-05, momentum=0.1, affine=True, track_running_stats=True)\n",
              "      )\n",
              "    )\n",
              "    (1): BasicBlock(\n",
              "      (conv1): Conv2d(128, 128, kernel_size=(3, 3), stride=(1, 1), padding=(1, 1), bias=False)\n",
              "      (bn1): BatchNorm2d(128, eps=1e-05, momentum=0.1, affine=True, track_running_stats=True)\n",
              "      (conv2): Conv2d(128, 128, kernel_size=(3, 3), stride=(1, 1), padding=(1, 1), bias=False)\n",
              "      (bn2): BatchNorm2d(128, eps=1e-05, momentum=0.1, affine=True, track_running_stats=True)\n",
              "      (shortcut): Sequential()\n",
              "    )\n",
              "  )\n",
              "  (layer3): Sequential(\n",
              "    (0): BasicBlock(\n",
              "      (conv1): Conv2d(128, 256, kernel_size=(3, 3), stride=(2, 2), padding=(1, 1), bias=False)\n",
              "      (bn1): BatchNorm2d(256, eps=1e-05, momentum=0.1, affine=True, track_running_stats=True)\n",
              "      (conv2): Conv2d(256, 256, kernel_size=(3, 3), stride=(1, 1), padding=(1, 1), bias=False)\n",
              "      (bn2): BatchNorm2d(256, eps=1e-05, momentum=0.1, affine=True, track_running_stats=True)\n",
              "      (shortcut): Sequential(\n",
              "        (0): Conv2d(128, 256, kernel_size=(1, 1), stride=(2, 2), bias=False)\n",
              "        (1): BatchNorm2d(256, eps=1e-05, momentum=0.1, affine=True, track_running_stats=True)\n",
              "      )\n",
              "    )\n",
              "    (1): BasicBlock(\n",
              "      (conv1): Conv2d(256, 256, kernel_size=(3, 3), stride=(1, 1), padding=(1, 1), bias=False)\n",
              "      (bn1): BatchNorm2d(256, eps=1e-05, momentum=0.1, affine=True, track_running_stats=True)\n",
              "      (conv2): Conv2d(256, 256, kernel_size=(3, 3), stride=(1, 1), padding=(1, 1), bias=False)\n",
              "      (bn2): BatchNorm2d(256, eps=1e-05, momentum=0.1, affine=True, track_running_stats=True)\n",
              "      (shortcut): Sequential()\n",
              "    )\n",
              "  )\n",
              "  (layer4): Sequential(\n",
              "    (0): BasicBlock(\n",
              "      (conv1): Conv2d(256, 512, kernel_size=(3, 3), stride=(2, 2), padding=(1, 1), bias=False)\n",
              "      (bn1): BatchNorm2d(512, eps=1e-05, momentum=0.1, affine=True, track_running_stats=True)\n",
              "      (conv2): Conv2d(512, 512, kernel_size=(3, 3), stride=(1, 1), padding=(1, 1), bias=False)\n",
              "      (bn2): BatchNorm2d(512, eps=1e-05, momentum=0.1, affine=True, track_running_stats=True)\n",
              "      (shortcut): Sequential(\n",
              "        (0): Conv2d(256, 512, kernel_size=(1, 1), stride=(2, 2), bias=False)\n",
              "        (1): BatchNorm2d(512, eps=1e-05, momentum=0.1, affine=True, track_running_stats=True)\n",
              "      )\n",
              "    )\n",
              "    (1): BasicBlock(\n",
              "      (conv1): Conv2d(512, 512, kernel_size=(3, 3), stride=(1, 1), padding=(1, 1), bias=False)\n",
              "      (bn1): BatchNorm2d(512, eps=1e-05, momentum=0.1, affine=True, track_running_stats=True)\n",
              "      (conv2): Conv2d(512, 512, kernel_size=(3, 3), stride=(1, 1), padding=(1, 1), bias=False)\n",
              "      (bn2): BatchNorm2d(512, eps=1e-05, momentum=0.1, affine=True, track_running_stats=True)\n",
              "      (shortcut): Sequential()\n",
              "    )\n",
              "  )\n",
              "  (linear): Linear(in_features=512, out_features=10, bias=True)\n",
              ")>"
            ]
          },
          "metadata": {},
          "execution_count": 14
        }
      ]
    },
    {
      "cell_type": "code",
      "source": [
        "cnn = cnn.cuda()\n",
        "criterion = nn.CrossEntropyLoss().cuda()\n",
        "cnn_optimizer = torch.optim.SGD(cnn.parameters(), lr=0.1,\n",
        "                                momentum=0.9, nesterov=True, weight_decay=5e-4)\n",
        "scheduler = MultiStepLR(cnn_optimizer, milestones=[80, 120], gamma=0.1)"
      ],
      "metadata": {
        "id": "D-cm6ie7IK3u",
        "execution": {
          "iopub.status.busy": "2022-05-03T01:50:50.758274Z",
          "iopub.execute_input": "2022-05-03T01:50:50.758533Z",
          "iopub.status.idle": "2022-05-03T01:50:50.787749Z",
          "shell.execute_reply.started": "2022-05-03T01:50:50.758504Z",
          "shell.execute_reply": "2022-05-03T01:50:50.787068Z"
        },
        "trusted": true
      },
      "execution_count": 15,
      "outputs": []
    },
    {
      "cell_type": "code",
      "source": [
        "def test(loader):\n",
        "    cnn.eval()    # Change model to 'eval' mode (BN uses moving mean/var).\n",
        "    correct = 0.\n",
        "    total = 0.\n",
        "    for images, labels in loader:\n",
        "        images = images.cuda()\n",
        "        labels = labels.cuda()\n",
        "\n",
        "        with torch.no_grad():\n",
        "            pred = cnn(images)\n",
        "\n",
        "        pred = torch.max(pred.data, 1)[1]\n",
        "        total += labels.size(0)\n",
        "        correct += (pred == labels).sum().item()\n",
        "\n",
        "    val_acc = correct / total\n",
        "    cnn.train()\n",
        "    return val_acc"
      ],
      "metadata": {
        "id": "MmOX_631IK0I",
        "execution": {
          "iopub.status.busy": "2022-05-03T01:50:53.022726Z",
          "iopub.execute_input": "2022-05-03T01:50:53.023194Z",
          "iopub.status.idle": "2022-05-03T01:50:53.029608Z",
          "shell.execute_reply.started": "2022-05-03T01:50:53.023146Z",
          "shell.execute_reply": "2022-05-03T01:50:53.028818Z"
        },
        "trusted": true
      },
      "execution_count": 16,
      "outputs": []
    },
    {
      "cell_type": "code",
      "source": [
        "train_accuracy = []\n",
        "test_accuracy = []\n",
        "entropy = []"
      ],
      "metadata": {
        "id": "9SCM6hhGP84t",
        "execution": {
          "iopub.status.busy": "2022-05-03T01:51:12.182498Z",
          "iopub.execute_input": "2022-05-03T01:51:12.182814Z",
          "iopub.status.idle": "2022-05-03T01:51:12.189309Z",
          "shell.execute_reply.started": "2022-05-03T01:51:12.182778Z",
          "shell.execute_reply": "2022-05-03T01:51:12.18851Z"
        },
        "trusted": true
      },
      "execution_count": 17,
      "outputs": []
    },
    {
      "cell_type": "code",
      "source": [
        "for epoch in range(200):\n",
        "\n",
        "    xentropy_loss_avg = 0.\n",
        "    correct = 0.\n",
        "    total = 0.\n",
        "\n",
        "    progress_bar = tqdm(train_loader)\n",
        "    for i, (images, labels) in enumerate(progress_bar):\n",
        "        progress_bar.set_description('Epoch ' + str(epoch))\n",
        "\n",
        "        images = images.cuda()\n",
        "        labels = labels.cuda()\n",
        "\n",
        "        cnn.zero_grad()\n",
        "        pred = cnn(images)\n",
        "\n",
        "        xentropy_loss = criterion(pred, labels)\n",
        "        xentropy_loss.backward()\n",
        "        cnn_optimizer.step()\n",
        "\n",
        "        xentropy_loss_avg += xentropy_loss.item()\n",
        "\n",
        "        # Calculate running average of accuracy\n",
        "        pred = torch.max(pred.data, 1)[1]\n",
        "        total += labels.size(0)\n",
        "        correct += (pred == labels.data).sum().item()\n",
        "        accuracy = correct / total\n",
        "\n",
        "        progress_bar.set_postfix(\n",
        "            xentropy='%.3f' % (xentropy_loss_avg / (i + 1)),\n",
        "            acc='%.3f' % accuracy)\n",
        "\n",
        "    test_acc = test(test_loader)\n",
        "    tqdm.write('test_acc: %.3f' % (test_acc))\n",
        "\n",
        "    scheduler.step(epoch)  # Use this line for PyTorch <1.4\n",
        "    # scheduler.step()     # Use this line for PyTorch >=1.4\n",
        "\n",
        "    # row = {'epoch': str(epoch), 'train_acc': str(accuracy), 'test_acc': str(test_acc)}\n",
        "    train_accuracy.append(accuracy)\n",
        "    test_accuracy.append(test_acc)\n",
        "    entropy.append(xentropy_loss_avg / (i + 1))"
      ],
      "metadata": {
        "id": "bFjxqGzmIKx_",
        "execution": {
          "iopub.status.busy": "2022-05-03T01:51:14.017558Z",
          "iopub.execute_input": "2022-05-03T01:51:14.017983Z",
          "iopub.status.idle": "2022-05-03T05:20:34.042282Z",
          "shell.execute_reply.started": "2022-05-03T01:51:14.017936Z",
          "shell.execute_reply": "2022-05-03T05:20:34.041456Z"
        },
        "trusted": true
      },
      "execution_count": null,
      "outputs": []
    },
    {
      "cell_type": "code",
      "source": [
        "epochs = 200\n",
        "import matplotlib.pyplot as plt\n",
        "\n",
        "fig, ax = plt.subplots()\n",
        "\n",
        "ax.plot(list(range(1,epochs+1)), train_accuracy, label='Training Accuracy')\n",
        "ax.plot(list(range(1,epochs+1)), test_accuracy, label='Test Accuracy')\n",
        "ax.set_xlabel('Epochs')\n",
        "ax.set_ylabel('Accuracy')\n",
        "ax.set_title(\"RandomErase_SVHN_random\")\n",
        "ax.legend()\n",
        "plt.show()"
      ],
      "metadata": {
        "id": "pr0e-TVLD-Ex",
        "execution": {
          "iopub.status.busy": "2022-05-03T05:33:22.824839Z",
          "iopub.execute_input": "2022-05-03T05:33:22.825096Z",
          "iopub.status.idle": "2022-05-03T05:33:23.148749Z",
          "shell.execute_reply.started": "2022-05-03T05:33:22.825068Z",
          "shell.execute_reply": "2022-05-03T05:33:23.147895Z"
        },
        "trusted": true
      },
      "execution_count": null,
      "outputs": []
    },
    {
      "cell_type": "code",
      "source": [
        "fig, ax = plt.subplots()\n",
        "ax.plot(list(range(1,epochs+1)), entropy, label='Loss')\n",
        "ax.set_xlabel('Epochs')\n",
        "ax.set_ylabel('Loss Value')\n",
        "ax.set_title(\"RandomErase_SVHN_random\")\n",
        "ax.legend()\n",
        "plt.show()"
      ],
      "metadata": {
        "execution": {
          "iopub.status.busy": "2022-05-03T05:33:28.351559Z",
          "iopub.execute_input": "2022-05-03T05:33:28.352108Z",
          "iopub.status.idle": "2022-05-03T05:33:28.679632Z",
          "shell.execute_reply.started": "2022-05-03T05:33:28.352071Z",
          "shell.execute_reply": "2022-05-03T05:33:28.678971Z"
        },
        "trusted": true,
        "id": "93l7tBnSx3yr"
      },
      "execution_count": null,
      "outputs": []
    },
    {
      "cell_type": "code",
      "source": [
        "import pickle\n",
        "dict_values = {}\n",
        "dict_values['train_acc'] = train_accuracy\n",
        "dict_values['test_acc'] = test_accuracy\n",
        "dict_values['loss'] = entropy\n",
        "\n",
        "with open('ResNet18_cutOut_SVHN_patch_8.pkl', 'wb') as f:\n",
        "    pickle.dump(dict_values, f)\n",
        "\n",
        "# with open('parrot.pkl', 'rb') as f:\n",
        "#     mynewlist = pickle.load(f)"
      ],
      "metadata": {
        "execution": {
          "iopub.status.busy": "2022-05-03T05:32:32.243541Z",
          "iopub.execute_input": "2022-05-03T05:32:32.244072Z",
          "iopub.status.idle": "2022-05-03T05:32:32.249167Z",
          "shell.execute_reply.started": "2022-05-03T05:32:32.24403Z",
          "shell.execute_reply": "2022-05-03T05:32:32.248483Z"
        },
        "trusted": true,
        "id": "aDpVxPRxx3yr"
      },
      "execution_count": null,
      "outputs": []
    },
    {
      "cell_type": "code",
      "source": [
        ""
      ],
      "metadata": {
        "id": "NSp3zzX-x3ys"
      },
      "execution_count": null,
      "outputs": []
    }
  ]
}